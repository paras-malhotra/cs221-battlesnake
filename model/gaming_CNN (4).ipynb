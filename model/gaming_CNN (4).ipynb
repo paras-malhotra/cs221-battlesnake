{
  "nbformat": 4,
  "nbformat_minor": 0,
  "metadata": {
    "colab": {
      "provenance": [],
      "gpuType": "T4",
      "machine_shape": "hm"
    },
    "kernelspec": {
      "name": "python3",
      "display_name": "Python 3"
    },
    "language_info": {
      "name": "python"
    }
  },
  "cells": [
    {
      "cell_type": "code",
      "execution_count": 1,
      "metadata": {
        "id": "l927EWSaVhdx"
      },
      "outputs": [],
      "source": [
        "# Source: https://machinelearningmastery.com/pytorch-tutorial-develop-deep-learning-models/"
      ]
    },
    {
      "cell_type": "markdown",
      "source": [
        "# Environment"
      ],
      "metadata": {
        "id": "lVjm5fIEqpzH"
      }
    },
    {
      "cell_type": "code",
      "source": [
        "# Load the Drive helper and mount\n",
        "from google.colab import drive\n",
        "\n",
        "# This will prompt for authorization.\n",
        "drive.mount('/content/drive')"
      ],
      "metadata": {
        "colab": {
          "base_uri": "https://localhost:8080/"
        },
        "id": "ztvE924GdNHd",
        "outputId": "f121fc23-2b70-4420-b546-c091ab9384f3"
      },
      "execution_count": 2,
      "outputs": [
        {
          "output_type": "stream",
          "name": "stdout",
          "text": [
            "Drive already mounted at /content/drive; to attempt to forcibly remount, call drive.mount(\"/content/drive\", force_remount=True).\n"
          ]
        }
      ]
    },
    {
      "cell_type": "code",
      "source": [
        "# check pytorch version\n",
        "import torch\n",
        "print(torch.__version__)"
      ],
      "metadata": {
        "colab": {
          "base_uri": "https://localhost:8080/"
        },
        "id": "5E_rxopvqzDA",
        "outputId": "bdabf91f-2819-49b8-be53-ac9a27595998"
      },
      "execution_count": 3,
      "outputs": [
        {
          "output_type": "stream",
          "name": "stdout",
          "text": [
            "2.0.1+cu118\n"
          ]
        }
      ]
    },
    {
      "cell_type": "code",
      "source": [
        "def cpu():  #@save\n",
        "    \"\"\"Get the CPU device.\"\"\"\n",
        "    return torch.device('cpu')\n",
        "\n",
        "def gpu(i=0):  #@save\n",
        "    \"\"\"Get a GPU device.\"\"\"\n",
        "    return torch.device(f'cuda:{i}')\n",
        "\n",
        "cpu(), gpu(), gpu(1)"
      ],
      "metadata": {
        "colab": {
          "base_uri": "https://localhost:8080/"
        },
        "id": "ak88HmKmqsjo",
        "outputId": "2340fb9b-a129-46fe-b7ee-b91522232309"
      },
      "execution_count": 4,
      "outputs": [
        {
          "output_type": "execute_result",
          "data": {
            "text/plain": [
              "(device(type='cpu'),\n",
              " device(type='cuda', index=0),\n",
              " device(type='cuda', index=1))"
            ]
          },
          "metadata": {},
          "execution_count": 4
        }
      ]
    },
    {
      "cell_type": "code",
      "source": [
        "# https://colab.research.google.com/github/d2l-ai/d2l-pytorch-colab/blob/master/chapter_builders-guide/use-gpu.ipynb#scrollTo=0725f553\n",
        "torch.device('cuda')\n",
        "# torch.device('cpu')"
      ],
      "metadata": {
        "colab": {
          "base_uri": "https://localhost:8080/"
        },
        "id": "XLD6hwEDq7BK",
        "outputId": "ba13a672-1e9c-4443-be35-5bb1904e05b9"
      },
      "execution_count": 5,
      "outputs": [
        {
          "output_type": "execute_result",
          "data": {
            "text/plain": [
              "device(type='cuda')"
            ]
          },
          "metadata": {},
          "execution_count": 5
        }
      ]
    },
    {
      "cell_type": "markdown",
      "source": [
        "# Dataset formation"
      ],
      "metadata": {
        "id": "aYmosdcMVkGp"
      }
    },
    {
      "cell_type": "code",
      "source": [
        "import json\n",
        "\n",
        "dataset_path = \"/content/drive/MyDrive/dataset-curr-next2.json\"\n",
        "# dataset_path = \"/content/drive/MyDrive/dataset-curr-next.json\"\n",
        "# dataset_path = \"/content/drive/MyDrive/UniversityStudies/stanford/cs221/project/dataset-curr-next.json\"\n",
        "# dataset_path = \"/content/drive/MyDrive/UniversityStudies/stanford/cs221/project/dataset2.json\"\n",
        "\n",
        "f = open(dataset_path)\n",
        "read_data = json.load(f)\n"
      ],
      "metadata": {
        "id": "B7T2W6sAkf8N"
      },
      "execution_count": 6,
      "outputs": []
    },
    {
      "cell_type": "code",
      "source": [
        "{ example['reward'] for example in read_data }"
      ],
      "metadata": {
        "colab": {
          "base_uri": "https://localhost:8080/"
        },
        "id": "A-w9PJm0MeF_",
        "outputId": "3376a4ce-8cd2-4db8-ed55-50b4ce56474b"
      },
      "execution_count": 7,
      "outputs": [
        {
          "output_type": "execute_result",
          "data": {
            "text/plain": [
              "{-1.0, 0.0, 0.1, 1.0}"
            ]
          },
          "metadata": {},
          "execution_count": 7
        }
      ]
    },
    {
      "cell_type": "code",
      "source": [
        "read_data[0]"
      ],
      "metadata": {
        "colab": {
          "base_uri": "https://localhost:8080/"
        },
        "id": "Gm5ywvB0wFj4",
        "outputId": "8f839c9c-bb5d-4810-f4aa-cf4de3a238e7"
      },
      "execution_count": 8,
      "outputs": [
        {
          "output_type": "execute_result",
          "data": {
            "text/plain": [
              "{'gameState': {'height': 11,\n",
              "  'width': 11,\n",
              "  'food': [[7, 1], [5, 6], [10, 6]],\n",
              "  'hazards': [],\n",
              "  'players': [{'health': 100,\n",
              "    'body': [[3, 8]],\n",
              "    'head': [3, 8],\n",
              "    'length': 1,\n",
              "    'id': 1,\n",
              "    'alive': True,\n",
              "    'ours': True},\n",
              "   {'health': 100,\n",
              "    'body': [[10, 6]],\n",
              "    'head': [10, 6],\n",
              "    'length': 1,\n",
              "    'id': 2,\n",
              "    'alive': True,\n",
              "    'ours': False},\n",
              "   {'health': 100,\n",
              "    'body': [[6, 5]],\n",
              "    'head': [6, 5],\n",
              "    'length': 1,\n",
              "    'id': 3,\n",
              "    'alive': True,\n",
              "    'ours': False}],\n",
              "  'endState': False,\n",
              "  'won': False,\n",
              "  'lost': False,\n",
              "  'tie': False},\n",
              " 'action': 'left',\n",
              " 'reward': 0.0,\n",
              " 'nextState': {'height': 11,\n",
              "  'width': 11,\n",
              "  'food': [[7, 1], [5, 6], [10, 6]],\n",
              "  'hazards': [],\n",
              "  'players': [{'health': 99,\n",
              "    'body': [[2, 8], [3, 8]],\n",
              "    'head': [2, 8],\n",
              "    'length': 2,\n",
              "    'id': 1,\n",
              "    'alive': True,\n",
              "    'ours': True},\n",
              "   {'health': 99,\n",
              "    'body': [[9, 6], [10, 6]],\n",
              "    'head': [9, 6],\n",
              "    'length': 2,\n",
              "    'id': 2,\n",
              "    'alive': True,\n",
              "    'ours': False},\n",
              "   {'health': 99,\n",
              "    'body': [[5, 5], [6, 5]],\n",
              "    'head': [5, 5],\n",
              "    'length': 2,\n",
              "    'id': 3,\n",
              "    'alive': True,\n",
              "    'ours': False}],\n",
              "  'endState': False,\n",
              "  'won': False,\n",
              "  'lost': False,\n",
              "  'tie': False}}"
            ]
          },
          "metadata": {},
          "execution_count": 8
        }
      ]
    },
    {
      "cell_type": "code",
      "source": [
        "# read_data = read_data[0:10]"
      ],
      "metadata": {
        "id": "Gu1_wxtlk6Y5"
      },
      "execution_count": 9,
      "outputs": []
    },
    {
      "cell_type": "code",
      "source": [
        "read_data[0].keys()"
      ],
      "metadata": {
        "colab": {
          "base_uri": "https://localhost:8080/"
        },
        "id": "NmmAjoOsqFKO",
        "outputId": "5b4f0381-8f9f-4c57-b67e-f4ec80aea88b"
      },
      "execution_count": 10,
      "outputs": [
        {
          "output_type": "execute_result",
          "data": {
            "text/plain": [
              "dict_keys(['gameState', 'action', 'reward', 'nextState'])"
            ]
          },
          "metadata": {},
          "execution_count": 10
        }
      ]
    },
    {
      "cell_type": "code",
      "source": [
        "rewards = { example['reward'] for example in read_data }\n",
        "\n",
        "rewards"
      ],
      "metadata": {
        "colab": {
          "base_uri": "https://localhost:8080/"
        },
        "id": "NFL8JuMx7ipv",
        "outputId": "1ca42204-b858-4449-9baa-c98a6bc22946"
      },
      "execution_count": 11,
      "outputs": [
        {
          "output_type": "execute_result",
          "data": {
            "text/plain": [
              "{-1.0, 0.0, 0.1, 1.0}"
            ]
          },
          "metadata": {},
          "execution_count": 11
        }
      ]
    },
    {
      "cell_type": "code",
      "source": [
        "import numpy as np\n",
        "from numpy import linalg as LA\n",
        "import uuid\n",
        "\n",
        "class GameBoard():\n",
        "\n",
        "  def __init__(self, example, state):\n",
        "    ### general\n",
        "    self.id = uuid.uuid4()\n",
        "    # channel\n",
        "    self.channel_names = ['self_head', 'self_body', 'self_health', 'self_length',\n",
        "                          'adversary_head', 'adversary_body', 'adversary_health', 'adversary_length',\n",
        "                          'food', 'hazards', \n",
        "                          'left', 'right', 'down', 'up', \n",
        "                          \"None\"]\n",
        "    # size\n",
        "    cnn_size = 32\n",
        "    if state['height'] > cnn_size or state['height'] > cnn_size:\n",
        "      raise NotImplementedError(\"CNN only supports 32x32 grid\")\n",
        "    self.rows = cnn_size \n",
        "    self.cols = cnn_size                           \n",
        "    ### specific\n",
        "    self.example = example\n",
        "    self.state = state\n",
        "    self.set_board()\n",
        "    self.set_food()\n",
        "    self.set_hazard()\n",
        "    self.set_player()\n",
        "    self.set_action()\n",
        "\n",
        "  def get_id(self):\n",
        "    return self.id\n",
        "\n",
        "  def channel_list(self):\n",
        "    return self.channel_names\n",
        "\n",
        "  def channel_count(self):\n",
        "    return len(self.channel_names)\n",
        "\n",
        "  def channel_idx(self, name):\n",
        "    if name is None:\n",
        "      name = \"None\"\n",
        "    return self.channel_names.index(name)\n",
        "\n",
        "  def set_board(self):\n",
        "    board = []\n",
        "    for i in range(self.channel_count()):\n",
        "      board.append(self.new_channel())\n",
        "    self.board = board\n",
        "\n",
        "  def get_board(self):\n",
        "    return self.board\n",
        "\n",
        "  def get_reward(self):\n",
        "    try:\n",
        "      return self.example['reward']\n",
        "    except:\n",
        "      pass\n",
        "    return 0\n",
        "\n",
        "  def new_channel(self):\n",
        "    channel = np.zeros((self.rows, self.cols))\n",
        "    return channel\n",
        "\n",
        "  def get_channel(self, name):\n",
        "    return self.board[self.channel_idx(name)]\n",
        "\n",
        "  def set_channel(self, name, channel):\n",
        "    self.board[self.channel_idx(name)] = channel\n",
        "\n",
        "  def mark_channel(self, name, locations, value=1):\n",
        "    channel = self.get_channel(name)\n",
        "    if isinstance(locations, list):\n",
        "      for loc in locations:\n",
        "        x, y = loc\n",
        "        curr = channel[x][y]\n",
        "        channel[x][y] = max([value, curr])\n",
        "    else:\n",
        "      for y, x in np.ndindex(channel.shape):\n",
        "        curr = channel[x][y]\n",
        "        channel[x][y] = max([value, curr])\n",
        "    self.set_channel(name, channel)\n",
        "    \n",
        "  def set_food(self, name='food'):\n",
        "    self.mark_channel(name, self.state[name])\n",
        "\n",
        "  def set_hazard(self, name='hazards'):\n",
        "    self.mark_channel(name, self.state[name])\n",
        "\n",
        "  def set_action(self, name='action'):\n",
        "    actual = self.example[name]\n",
        "    self.mark_channel(actual, actual)\n",
        "\n",
        "  def set_player(self):\n",
        "    # {'health': 100,\n",
        "    # 'body': [[6, 8]],\n",
        "    # 'head': [6, 8],\n",
        "    # 'length': 1,\n",
        "    # 'id': 1,\n",
        "    # 'alive': True,\n",
        "    # 'ours': True}\n",
        "    for player in self.state['players']:\n",
        "      health = player['health']\n",
        "      body = player['body']\n",
        "      head = [player['head']]\n",
        "      length = player['length']\n",
        "      if player['alive']:\n",
        "        if player['ours']:\n",
        "          self.mark_channel('self_health', health, health)\n",
        "          self.mark_channel('self_body', body)\n",
        "          self.mark_channel('self_head', head)\n",
        "          self.mark_channel('self_length', length)\n",
        "        else:\n",
        "          self.mark_channel('adversary_health', health, health)\n",
        "          self.mark_channel('adversary_body', body)\n",
        "          self.mark_channel('adversary_head', head)\n",
        "          self.mark_channel('adversary_length', length)\n",
        "\n",
        "\n",
        "class ShapedExample():\n",
        "  \n",
        "  def __init__(self, example):\n",
        "    self.example = example\n",
        "    self.board_curr = GameBoard(example, example['gameState'])\n",
        "    self.board_next = GameBoard(example, example['nextState']) \n",
        "    self.board_alts = []\n",
        "    for action in ['left', 'right', 'up', 'down']:\n",
        "      alt = self.example.copy()\n",
        "      alt['action'] = action\n",
        "      board = GameBoard(alt, example['nextState'])\n",
        "      self.board_alts.append(board)"
      ],
      "metadata": {
        "id": "eomUcp8IjWJQ"
      },
      "execution_count": 12,
      "outputs": []
    },
    {
      "cell_type": "code",
      "source": [
        "ex = ShapedExample(read_data[0])\n",
        "\n",
        "for ch in ex.board_curr.channel_list():\n",
        "  try:\n",
        "    grid = ex.board_curr.get_channel(ch)\n",
        "    print(ex.example)\n",
        "    print(ch, grid)\n",
        "  except Exception as e:\n",
        "    print(e)"
      ],
      "metadata": {
        "colab": {
          "base_uri": "https://localhost:8080/"
        },
        "id": "RlhWfDUCuQp4",
        "outputId": "5251be01-0ce0-412d-feca-b26aac493fea"
      },
      "execution_count": 13,
      "outputs": [
        {
          "output_type": "stream",
          "name": "stdout",
          "text": [
            "{'gameState': {'height': 11, 'width': 11, 'food': [[7, 1], [5, 6], [10, 6]], 'hazards': [], 'players': [{'health': 100, 'body': [[3, 8]], 'head': [3, 8], 'length': 1, 'id': 1, 'alive': True, 'ours': True}, {'health': 100, 'body': [[10, 6]], 'head': [10, 6], 'length': 1, 'id': 2, 'alive': True, 'ours': False}, {'health': 100, 'body': [[6, 5]], 'head': [6, 5], 'length': 1, 'id': 3, 'alive': True, 'ours': False}], 'endState': False, 'won': False, 'lost': False, 'tie': False}, 'action': 'left', 'reward': 0.0, 'nextState': {'height': 11, 'width': 11, 'food': [[7, 1], [5, 6], [10, 6]], 'hazards': [], 'players': [{'health': 99, 'body': [[2, 8], [3, 8]], 'head': [2, 8], 'length': 2, 'id': 1, 'alive': True, 'ours': True}, {'health': 99, 'body': [[9, 6], [10, 6]], 'head': [9, 6], 'length': 2, 'id': 2, 'alive': True, 'ours': False}, {'health': 99, 'body': [[5, 5], [6, 5]], 'head': [5, 5], 'length': 2, 'id': 3, 'alive': True, 'ours': False}], 'endState': False, 'won': False, 'lost': False, 'tie': False}}\n",
            "self_head [[0. 0. 0. ... 0. 0. 0.]\n",
            " [0. 0. 0. ... 0. 0. 0.]\n",
            " [0. 0. 0. ... 0. 0. 0.]\n",
            " ...\n",
            " [0. 0. 0. ... 0. 0. 0.]\n",
            " [0. 0. 0. ... 0. 0. 0.]\n",
            " [0. 0. 0. ... 0. 0. 0.]]\n",
            "{'gameState': {'height': 11, 'width': 11, 'food': [[7, 1], [5, 6], [10, 6]], 'hazards': [], 'players': [{'health': 100, 'body': [[3, 8]], 'head': [3, 8], 'length': 1, 'id': 1, 'alive': True, 'ours': True}, {'health': 100, 'body': [[10, 6]], 'head': [10, 6], 'length': 1, 'id': 2, 'alive': True, 'ours': False}, {'health': 100, 'body': [[6, 5]], 'head': [6, 5], 'length': 1, 'id': 3, 'alive': True, 'ours': False}], 'endState': False, 'won': False, 'lost': False, 'tie': False}, 'action': 'left', 'reward': 0.0, 'nextState': {'height': 11, 'width': 11, 'food': [[7, 1], [5, 6], [10, 6]], 'hazards': [], 'players': [{'health': 99, 'body': [[2, 8], [3, 8]], 'head': [2, 8], 'length': 2, 'id': 1, 'alive': True, 'ours': True}, {'health': 99, 'body': [[9, 6], [10, 6]], 'head': [9, 6], 'length': 2, 'id': 2, 'alive': True, 'ours': False}, {'health': 99, 'body': [[5, 5], [6, 5]], 'head': [5, 5], 'length': 2, 'id': 3, 'alive': True, 'ours': False}], 'endState': False, 'won': False, 'lost': False, 'tie': False}}\n",
            "self_body [[0. 0. 0. ... 0. 0. 0.]\n",
            " [0. 0. 0. ... 0. 0. 0.]\n",
            " [0. 0. 0. ... 0. 0. 0.]\n",
            " ...\n",
            " [0. 0. 0. ... 0. 0. 0.]\n",
            " [0. 0. 0. ... 0. 0. 0.]\n",
            " [0. 0. 0. ... 0. 0. 0.]]\n",
            "{'gameState': {'height': 11, 'width': 11, 'food': [[7, 1], [5, 6], [10, 6]], 'hazards': [], 'players': [{'health': 100, 'body': [[3, 8]], 'head': [3, 8], 'length': 1, 'id': 1, 'alive': True, 'ours': True}, {'health': 100, 'body': [[10, 6]], 'head': [10, 6], 'length': 1, 'id': 2, 'alive': True, 'ours': False}, {'health': 100, 'body': [[6, 5]], 'head': [6, 5], 'length': 1, 'id': 3, 'alive': True, 'ours': False}], 'endState': False, 'won': False, 'lost': False, 'tie': False}, 'action': 'left', 'reward': 0.0, 'nextState': {'height': 11, 'width': 11, 'food': [[7, 1], [5, 6], [10, 6]], 'hazards': [], 'players': [{'health': 99, 'body': [[2, 8], [3, 8]], 'head': [2, 8], 'length': 2, 'id': 1, 'alive': True, 'ours': True}, {'health': 99, 'body': [[9, 6], [10, 6]], 'head': [9, 6], 'length': 2, 'id': 2, 'alive': True, 'ours': False}, {'health': 99, 'body': [[5, 5], [6, 5]], 'head': [5, 5], 'length': 2, 'id': 3, 'alive': True, 'ours': False}], 'endState': False, 'won': False, 'lost': False, 'tie': False}}\n",
            "self_health [[100. 100. 100. ... 100. 100. 100.]\n",
            " [100. 100. 100. ... 100. 100. 100.]\n",
            " [100. 100. 100. ... 100. 100. 100.]\n",
            " ...\n",
            " [100. 100. 100. ... 100. 100. 100.]\n",
            " [100. 100. 100. ... 100. 100. 100.]\n",
            " [100. 100. 100. ... 100. 100. 100.]]\n",
            "{'gameState': {'height': 11, 'width': 11, 'food': [[7, 1], [5, 6], [10, 6]], 'hazards': [], 'players': [{'health': 100, 'body': [[3, 8]], 'head': [3, 8], 'length': 1, 'id': 1, 'alive': True, 'ours': True}, {'health': 100, 'body': [[10, 6]], 'head': [10, 6], 'length': 1, 'id': 2, 'alive': True, 'ours': False}, {'health': 100, 'body': [[6, 5]], 'head': [6, 5], 'length': 1, 'id': 3, 'alive': True, 'ours': False}], 'endState': False, 'won': False, 'lost': False, 'tie': False}, 'action': 'left', 'reward': 0.0, 'nextState': {'height': 11, 'width': 11, 'food': [[7, 1], [5, 6], [10, 6]], 'hazards': [], 'players': [{'health': 99, 'body': [[2, 8], [3, 8]], 'head': [2, 8], 'length': 2, 'id': 1, 'alive': True, 'ours': True}, {'health': 99, 'body': [[9, 6], [10, 6]], 'head': [9, 6], 'length': 2, 'id': 2, 'alive': True, 'ours': False}, {'health': 99, 'body': [[5, 5], [6, 5]], 'head': [5, 5], 'length': 2, 'id': 3, 'alive': True, 'ours': False}], 'endState': False, 'won': False, 'lost': False, 'tie': False}}\n",
            "self_length [[1. 1. 1. ... 1. 1. 1.]\n",
            " [1. 1. 1. ... 1. 1. 1.]\n",
            " [1. 1. 1. ... 1. 1. 1.]\n",
            " ...\n",
            " [1. 1. 1. ... 1. 1. 1.]\n",
            " [1. 1. 1. ... 1. 1. 1.]\n",
            " [1. 1. 1. ... 1. 1. 1.]]\n",
            "{'gameState': {'height': 11, 'width': 11, 'food': [[7, 1], [5, 6], [10, 6]], 'hazards': [], 'players': [{'health': 100, 'body': [[3, 8]], 'head': [3, 8], 'length': 1, 'id': 1, 'alive': True, 'ours': True}, {'health': 100, 'body': [[10, 6]], 'head': [10, 6], 'length': 1, 'id': 2, 'alive': True, 'ours': False}, {'health': 100, 'body': [[6, 5]], 'head': [6, 5], 'length': 1, 'id': 3, 'alive': True, 'ours': False}], 'endState': False, 'won': False, 'lost': False, 'tie': False}, 'action': 'left', 'reward': 0.0, 'nextState': {'height': 11, 'width': 11, 'food': [[7, 1], [5, 6], [10, 6]], 'hazards': [], 'players': [{'health': 99, 'body': [[2, 8], [3, 8]], 'head': [2, 8], 'length': 2, 'id': 1, 'alive': True, 'ours': True}, {'health': 99, 'body': [[9, 6], [10, 6]], 'head': [9, 6], 'length': 2, 'id': 2, 'alive': True, 'ours': False}, {'health': 99, 'body': [[5, 5], [6, 5]], 'head': [5, 5], 'length': 2, 'id': 3, 'alive': True, 'ours': False}], 'endState': False, 'won': False, 'lost': False, 'tie': False}}\n",
            "adversary_head [[0. 0. 0. ... 0. 0. 0.]\n",
            " [0. 0. 0. ... 0. 0. 0.]\n",
            " [0. 0. 0. ... 0. 0. 0.]\n",
            " ...\n",
            " [0. 0. 0. ... 0. 0. 0.]\n",
            " [0. 0. 0. ... 0. 0. 0.]\n",
            " [0. 0. 0. ... 0. 0. 0.]]\n",
            "{'gameState': {'height': 11, 'width': 11, 'food': [[7, 1], [5, 6], [10, 6]], 'hazards': [], 'players': [{'health': 100, 'body': [[3, 8]], 'head': [3, 8], 'length': 1, 'id': 1, 'alive': True, 'ours': True}, {'health': 100, 'body': [[10, 6]], 'head': [10, 6], 'length': 1, 'id': 2, 'alive': True, 'ours': False}, {'health': 100, 'body': [[6, 5]], 'head': [6, 5], 'length': 1, 'id': 3, 'alive': True, 'ours': False}], 'endState': False, 'won': False, 'lost': False, 'tie': False}, 'action': 'left', 'reward': 0.0, 'nextState': {'height': 11, 'width': 11, 'food': [[7, 1], [5, 6], [10, 6]], 'hazards': [], 'players': [{'health': 99, 'body': [[2, 8], [3, 8]], 'head': [2, 8], 'length': 2, 'id': 1, 'alive': True, 'ours': True}, {'health': 99, 'body': [[9, 6], [10, 6]], 'head': [9, 6], 'length': 2, 'id': 2, 'alive': True, 'ours': False}, {'health': 99, 'body': [[5, 5], [6, 5]], 'head': [5, 5], 'length': 2, 'id': 3, 'alive': True, 'ours': False}], 'endState': False, 'won': False, 'lost': False, 'tie': False}}\n",
            "adversary_body [[0. 0. 0. ... 0. 0. 0.]\n",
            " [0. 0. 0. ... 0. 0. 0.]\n",
            " [0. 0. 0. ... 0. 0. 0.]\n",
            " ...\n",
            " [0. 0. 0. ... 0. 0. 0.]\n",
            " [0. 0. 0. ... 0. 0. 0.]\n",
            " [0. 0. 0. ... 0. 0. 0.]]\n",
            "{'gameState': {'height': 11, 'width': 11, 'food': [[7, 1], [5, 6], [10, 6]], 'hazards': [], 'players': [{'health': 100, 'body': [[3, 8]], 'head': [3, 8], 'length': 1, 'id': 1, 'alive': True, 'ours': True}, {'health': 100, 'body': [[10, 6]], 'head': [10, 6], 'length': 1, 'id': 2, 'alive': True, 'ours': False}, {'health': 100, 'body': [[6, 5]], 'head': [6, 5], 'length': 1, 'id': 3, 'alive': True, 'ours': False}], 'endState': False, 'won': False, 'lost': False, 'tie': False}, 'action': 'left', 'reward': 0.0, 'nextState': {'height': 11, 'width': 11, 'food': [[7, 1], [5, 6], [10, 6]], 'hazards': [], 'players': [{'health': 99, 'body': [[2, 8], [3, 8]], 'head': [2, 8], 'length': 2, 'id': 1, 'alive': True, 'ours': True}, {'health': 99, 'body': [[9, 6], [10, 6]], 'head': [9, 6], 'length': 2, 'id': 2, 'alive': True, 'ours': False}, {'health': 99, 'body': [[5, 5], [6, 5]], 'head': [5, 5], 'length': 2, 'id': 3, 'alive': True, 'ours': False}], 'endState': False, 'won': False, 'lost': False, 'tie': False}}\n",
            "adversary_health [[100. 100. 100. ... 100. 100. 100.]\n",
            " [100. 100. 100. ... 100. 100. 100.]\n",
            " [100. 100. 100. ... 100. 100. 100.]\n",
            " ...\n",
            " [100. 100. 100. ... 100. 100. 100.]\n",
            " [100. 100. 100. ... 100. 100. 100.]\n",
            " [100. 100. 100. ... 100. 100. 100.]]\n",
            "{'gameState': {'height': 11, 'width': 11, 'food': [[7, 1], [5, 6], [10, 6]], 'hazards': [], 'players': [{'health': 100, 'body': [[3, 8]], 'head': [3, 8], 'length': 1, 'id': 1, 'alive': True, 'ours': True}, {'health': 100, 'body': [[10, 6]], 'head': [10, 6], 'length': 1, 'id': 2, 'alive': True, 'ours': False}, {'health': 100, 'body': [[6, 5]], 'head': [6, 5], 'length': 1, 'id': 3, 'alive': True, 'ours': False}], 'endState': False, 'won': False, 'lost': False, 'tie': False}, 'action': 'left', 'reward': 0.0, 'nextState': {'height': 11, 'width': 11, 'food': [[7, 1], [5, 6], [10, 6]], 'hazards': [], 'players': [{'health': 99, 'body': [[2, 8], [3, 8]], 'head': [2, 8], 'length': 2, 'id': 1, 'alive': True, 'ours': True}, {'health': 99, 'body': [[9, 6], [10, 6]], 'head': [9, 6], 'length': 2, 'id': 2, 'alive': True, 'ours': False}, {'health': 99, 'body': [[5, 5], [6, 5]], 'head': [5, 5], 'length': 2, 'id': 3, 'alive': True, 'ours': False}], 'endState': False, 'won': False, 'lost': False, 'tie': False}}\n",
            "adversary_length [[1. 1. 1. ... 1. 1. 1.]\n",
            " [1. 1. 1. ... 1. 1. 1.]\n",
            " [1. 1. 1. ... 1. 1. 1.]\n",
            " ...\n",
            " [1. 1. 1. ... 1. 1. 1.]\n",
            " [1. 1. 1. ... 1. 1. 1.]\n",
            " [1. 1. 1. ... 1. 1. 1.]]\n",
            "{'gameState': {'height': 11, 'width': 11, 'food': [[7, 1], [5, 6], [10, 6]], 'hazards': [], 'players': [{'health': 100, 'body': [[3, 8]], 'head': [3, 8], 'length': 1, 'id': 1, 'alive': True, 'ours': True}, {'health': 100, 'body': [[10, 6]], 'head': [10, 6], 'length': 1, 'id': 2, 'alive': True, 'ours': False}, {'health': 100, 'body': [[6, 5]], 'head': [6, 5], 'length': 1, 'id': 3, 'alive': True, 'ours': False}], 'endState': False, 'won': False, 'lost': False, 'tie': False}, 'action': 'left', 'reward': 0.0, 'nextState': {'height': 11, 'width': 11, 'food': [[7, 1], [5, 6], [10, 6]], 'hazards': [], 'players': [{'health': 99, 'body': [[2, 8], [3, 8]], 'head': [2, 8], 'length': 2, 'id': 1, 'alive': True, 'ours': True}, {'health': 99, 'body': [[9, 6], [10, 6]], 'head': [9, 6], 'length': 2, 'id': 2, 'alive': True, 'ours': False}, {'health': 99, 'body': [[5, 5], [6, 5]], 'head': [5, 5], 'length': 2, 'id': 3, 'alive': True, 'ours': False}], 'endState': False, 'won': False, 'lost': False, 'tie': False}}\n",
            "food [[0. 0. 0. ... 0. 0. 0.]\n",
            " [0. 0. 0. ... 0. 0. 0.]\n",
            " [0. 0. 0. ... 0. 0. 0.]\n",
            " ...\n",
            " [0. 0. 0. ... 0. 0. 0.]\n",
            " [0. 0. 0. ... 0. 0. 0.]\n",
            " [0. 0. 0. ... 0. 0. 0.]]\n",
            "{'gameState': {'height': 11, 'width': 11, 'food': [[7, 1], [5, 6], [10, 6]], 'hazards': [], 'players': [{'health': 100, 'body': [[3, 8]], 'head': [3, 8], 'length': 1, 'id': 1, 'alive': True, 'ours': True}, {'health': 100, 'body': [[10, 6]], 'head': [10, 6], 'length': 1, 'id': 2, 'alive': True, 'ours': False}, {'health': 100, 'body': [[6, 5]], 'head': [6, 5], 'length': 1, 'id': 3, 'alive': True, 'ours': False}], 'endState': False, 'won': False, 'lost': False, 'tie': False}, 'action': 'left', 'reward': 0.0, 'nextState': {'height': 11, 'width': 11, 'food': [[7, 1], [5, 6], [10, 6]], 'hazards': [], 'players': [{'health': 99, 'body': [[2, 8], [3, 8]], 'head': [2, 8], 'length': 2, 'id': 1, 'alive': True, 'ours': True}, {'health': 99, 'body': [[9, 6], [10, 6]], 'head': [9, 6], 'length': 2, 'id': 2, 'alive': True, 'ours': False}, {'health': 99, 'body': [[5, 5], [6, 5]], 'head': [5, 5], 'length': 2, 'id': 3, 'alive': True, 'ours': False}], 'endState': False, 'won': False, 'lost': False, 'tie': False}}\n",
            "hazards [[0. 0. 0. ... 0. 0. 0.]\n",
            " [0. 0. 0. ... 0. 0. 0.]\n",
            " [0. 0. 0. ... 0. 0. 0.]\n",
            " ...\n",
            " [0. 0. 0. ... 0. 0. 0.]\n",
            " [0. 0. 0. ... 0. 0. 0.]\n",
            " [0. 0. 0. ... 0. 0. 0.]]\n",
            "{'gameState': {'height': 11, 'width': 11, 'food': [[7, 1], [5, 6], [10, 6]], 'hazards': [], 'players': [{'health': 100, 'body': [[3, 8]], 'head': [3, 8], 'length': 1, 'id': 1, 'alive': True, 'ours': True}, {'health': 100, 'body': [[10, 6]], 'head': [10, 6], 'length': 1, 'id': 2, 'alive': True, 'ours': False}, {'health': 100, 'body': [[6, 5]], 'head': [6, 5], 'length': 1, 'id': 3, 'alive': True, 'ours': False}], 'endState': False, 'won': False, 'lost': False, 'tie': False}, 'action': 'left', 'reward': 0.0, 'nextState': {'height': 11, 'width': 11, 'food': [[7, 1], [5, 6], [10, 6]], 'hazards': [], 'players': [{'health': 99, 'body': [[2, 8], [3, 8]], 'head': [2, 8], 'length': 2, 'id': 1, 'alive': True, 'ours': True}, {'health': 99, 'body': [[9, 6], [10, 6]], 'head': [9, 6], 'length': 2, 'id': 2, 'alive': True, 'ours': False}, {'health': 99, 'body': [[5, 5], [6, 5]], 'head': [5, 5], 'length': 2, 'id': 3, 'alive': True, 'ours': False}], 'endState': False, 'won': False, 'lost': False, 'tie': False}}\n",
            "left [[1. 1. 1. ... 1. 1. 1.]\n",
            " [1. 1. 1. ... 1. 1. 1.]\n",
            " [1. 1. 1. ... 1. 1. 1.]\n",
            " ...\n",
            " [1. 1. 1. ... 1. 1. 1.]\n",
            " [1. 1. 1. ... 1. 1. 1.]\n",
            " [1. 1. 1. ... 1. 1. 1.]]\n",
            "{'gameState': {'height': 11, 'width': 11, 'food': [[7, 1], [5, 6], [10, 6]], 'hazards': [], 'players': [{'health': 100, 'body': [[3, 8]], 'head': [3, 8], 'length': 1, 'id': 1, 'alive': True, 'ours': True}, {'health': 100, 'body': [[10, 6]], 'head': [10, 6], 'length': 1, 'id': 2, 'alive': True, 'ours': False}, {'health': 100, 'body': [[6, 5]], 'head': [6, 5], 'length': 1, 'id': 3, 'alive': True, 'ours': False}], 'endState': False, 'won': False, 'lost': False, 'tie': False}, 'action': 'left', 'reward': 0.0, 'nextState': {'height': 11, 'width': 11, 'food': [[7, 1], [5, 6], [10, 6]], 'hazards': [], 'players': [{'health': 99, 'body': [[2, 8], [3, 8]], 'head': [2, 8], 'length': 2, 'id': 1, 'alive': True, 'ours': True}, {'health': 99, 'body': [[9, 6], [10, 6]], 'head': [9, 6], 'length': 2, 'id': 2, 'alive': True, 'ours': False}, {'health': 99, 'body': [[5, 5], [6, 5]], 'head': [5, 5], 'length': 2, 'id': 3, 'alive': True, 'ours': False}], 'endState': False, 'won': False, 'lost': False, 'tie': False}}\n",
            "right [[0. 0. 0. ... 0. 0. 0.]\n",
            " [0. 0. 0. ... 0. 0. 0.]\n",
            " [0. 0. 0. ... 0. 0. 0.]\n",
            " ...\n",
            " [0. 0. 0. ... 0. 0. 0.]\n",
            " [0. 0. 0. ... 0. 0. 0.]\n",
            " [0. 0. 0. ... 0. 0. 0.]]\n",
            "{'gameState': {'height': 11, 'width': 11, 'food': [[7, 1], [5, 6], [10, 6]], 'hazards': [], 'players': [{'health': 100, 'body': [[3, 8]], 'head': [3, 8], 'length': 1, 'id': 1, 'alive': True, 'ours': True}, {'health': 100, 'body': [[10, 6]], 'head': [10, 6], 'length': 1, 'id': 2, 'alive': True, 'ours': False}, {'health': 100, 'body': [[6, 5]], 'head': [6, 5], 'length': 1, 'id': 3, 'alive': True, 'ours': False}], 'endState': False, 'won': False, 'lost': False, 'tie': False}, 'action': 'left', 'reward': 0.0, 'nextState': {'height': 11, 'width': 11, 'food': [[7, 1], [5, 6], [10, 6]], 'hazards': [], 'players': [{'health': 99, 'body': [[2, 8], [3, 8]], 'head': [2, 8], 'length': 2, 'id': 1, 'alive': True, 'ours': True}, {'health': 99, 'body': [[9, 6], [10, 6]], 'head': [9, 6], 'length': 2, 'id': 2, 'alive': True, 'ours': False}, {'health': 99, 'body': [[5, 5], [6, 5]], 'head': [5, 5], 'length': 2, 'id': 3, 'alive': True, 'ours': False}], 'endState': False, 'won': False, 'lost': False, 'tie': False}}\n",
            "down [[0. 0. 0. ... 0. 0. 0.]\n",
            " [0. 0. 0. ... 0. 0. 0.]\n",
            " [0. 0. 0. ... 0. 0. 0.]\n",
            " ...\n",
            " [0. 0. 0. ... 0. 0. 0.]\n",
            " [0. 0. 0. ... 0. 0. 0.]\n",
            " [0. 0. 0. ... 0. 0. 0.]]\n",
            "{'gameState': {'height': 11, 'width': 11, 'food': [[7, 1], [5, 6], [10, 6]], 'hazards': [], 'players': [{'health': 100, 'body': [[3, 8]], 'head': [3, 8], 'length': 1, 'id': 1, 'alive': True, 'ours': True}, {'health': 100, 'body': [[10, 6]], 'head': [10, 6], 'length': 1, 'id': 2, 'alive': True, 'ours': False}, {'health': 100, 'body': [[6, 5]], 'head': [6, 5], 'length': 1, 'id': 3, 'alive': True, 'ours': False}], 'endState': False, 'won': False, 'lost': False, 'tie': False}, 'action': 'left', 'reward': 0.0, 'nextState': {'height': 11, 'width': 11, 'food': [[7, 1], [5, 6], [10, 6]], 'hazards': [], 'players': [{'health': 99, 'body': [[2, 8], [3, 8]], 'head': [2, 8], 'length': 2, 'id': 1, 'alive': True, 'ours': True}, {'health': 99, 'body': [[9, 6], [10, 6]], 'head': [9, 6], 'length': 2, 'id': 2, 'alive': True, 'ours': False}, {'health': 99, 'body': [[5, 5], [6, 5]], 'head': [5, 5], 'length': 2, 'id': 3, 'alive': True, 'ours': False}], 'endState': False, 'won': False, 'lost': False, 'tie': False}}\n",
            "up [[0. 0. 0. ... 0. 0. 0.]\n",
            " [0. 0. 0. ... 0. 0. 0.]\n",
            " [0. 0. 0. ... 0. 0. 0.]\n",
            " ...\n",
            " [0. 0. 0. ... 0. 0. 0.]\n",
            " [0. 0. 0. ... 0. 0. 0.]\n",
            " [0. 0. 0. ... 0. 0. 0.]]\n",
            "{'gameState': {'height': 11, 'width': 11, 'food': [[7, 1], [5, 6], [10, 6]], 'hazards': [], 'players': [{'health': 100, 'body': [[3, 8]], 'head': [3, 8], 'length': 1, 'id': 1, 'alive': True, 'ours': True}, {'health': 100, 'body': [[10, 6]], 'head': [10, 6], 'length': 1, 'id': 2, 'alive': True, 'ours': False}, {'health': 100, 'body': [[6, 5]], 'head': [6, 5], 'length': 1, 'id': 3, 'alive': True, 'ours': False}], 'endState': False, 'won': False, 'lost': False, 'tie': False}, 'action': 'left', 'reward': 0.0, 'nextState': {'height': 11, 'width': 11, 'food': [[7, 1], [5, 6], [10, 6]], 'hazards': [], 'players': [{'health': 99, 'body': [[2, 8], [3, 8]], 'head': [2, 8], 'length': 2, 'id': 1, 'alive': True, 'ours': True}, {'health': 99, 'body': [[9, 6], [10, 6]], 'head': [9, 6], 'length': 2, 'id': 2, 'alive': True, 'ours': False}, {'health': 99, 'body': [[5, 5], [6, 5]], 'head': [5, 5], 'length': 2, 'id': 3, 'alive': True, 'ours': False}], 'endState': False, 'won': False, 'lost': False, 'tie': False}}\n",
            "None [[0. 0. 0. ... 0. 0. 0.]\n",
            " [0. 0. 0. ... 0. 0. 0.]\n",
            " [0. 0. 0. ... 0. 0. 0.]\n",
            " ...\n",
            " [0. 0. 0. ... 0. 0. 0.]\n",
            " [0. 0. 0. ... 0. 0. 0.]\n",
            " [0. 0. 0. ... 0. 0. 0.]]\n"
          ]
        }
      ]
    },
    {
      "cell_type": "code",
      "source": [
        "import numpy as np\n",
        "import matplotlib.pyplot as plt\n",
        "\n",
        "plt.imshow(ex.board_curr.get_channel('food'), cmap='Greys', interpolation='none')"
      ],
      "metadata": {
        "colab": {
          "base_uri": "https://localhost:8080/",
          "height": 448
        },
        "id": "w79LOb4Bxdds",
        "outputId": "acc72524-e8d2-472e-a63c-0f8863a8ace8"
      },
      "execution_count": 14,
      "outputs": [
        {
          "output_type": "execute_result",
          "data": {
            "text/plain": [
              "<matplotlib.image.AxesImage at 0x7f05a08e5480>"
            ]
          },
          "metadata": {},
          "execution_count": 14
        },
        {
          "output_type": "display_data",
          "data": {
            "text/plain": [
              "<Figure size 640x480 with 1 Axes>"
            ],
            "image/png": "[encoded data removed]"
          },
          "metadata": {}
        }
      ]
    },
    {
      "cell_type": "code",
      "source": [
        "plt.imshow(ex.board_next.get_channel('food'), cmap='Greys', interpolation='none')"
      ],
      "metadata": {
        "colab": {
          "base_uri": "https://localhost:8080/",
          "height": 448
        },
        "id": "wguRdFnODSt_",
        "outputId": "516ad1e0-2a83-43e8-c9d3-f2faa3d45607"
      },
      "execution_count": 15,
      "outputs": [
        {
          "output_type": "execute_result",
          "data": {
            "text/plain": [
              "<matplotlib.image.AxesImage at 0x7f05a6fd65f0>"
            ]
          },
          "metadata": {},
          "execution_count": 15
        },
        {
          "output_type": "display_data",
          "data": {
            "text/plain": [
              "<Figure size 640x480 with 1 Axes>"
            ],
            "image/png": "[encoded data removed]"
          },
          "metadata": {}
        }
      ]
    },
    {
      "cell_type": "code",
      "source": [
        "from torch.utils.data import Dataset\n",
        "\n",
        "# dataset definition\n",
        "class SnakeDataset(Dataset):\n",
        "    # load the dataset\n",
        "    def __init__(self, dataset):\n",
        "        # store the inputs and outputs\n",
        "        self.X = []\n",
        "        self.y = []\n",
        "        # self.next_reward_boards = {}\n",
        "        for example in dataset:\n",
        "          shaped = ShapedExample(example)\n",
        "          ### X\n",
        "          board_curr = shaped.board_curr.get_board()\n",
        "          boards_next = [alt.get_board() for alt in shaped.board_alts]\n",
        "          board_combo = np.array(boards_next)\n",
        "          self.X.append(board_combo)\n",
        "          ### y\n",
        "          instant_reward_board =  shaped.board_curr\n",
        "          self.y.append(instant_reward_board.get_reward())\n",
        "        ### convert for Torch\n",
        "        # device=try_gpu()\n",
        "        self.X = torch.Tensor(np.array(self.X)).type(torch.FloatTensor) \n",
        "        self.y = self.regression_label() \n",
        "        # self.y = self.classification_label()\n",
        "\n",
        "    def regression_label(self):\n",
        "      return torch.Tensor(np.array(self.y)).type(torch.FloatTensor)\n",
        "\n",
        "    def classification_label(self):\n",
        "      # PyTorch won't accept a FloatTensor as categorical target\n",
        "      return torch.Tensor(np.array(self.y)).type(torch.LongTensor)\n",
        "\n",
        "    # def convert_reward(self, value):\n",
        "    #   if value == 1:\n",
        "    #     return 1\n",
        "    #   if value == -1:\n",
        "    #     return 0\n",
        "    #   return 1\n",
        "\n",
        "    # number of rows in the dataset\n",
        "    def __len__(self):\n",
        "        return len(self.X)\n",
        " \n",
        "    # get a row at an index\n",
        "    def __getitem__(self, idx):\n",
        "        return [self.X[idx], self.y[idx]]"
      ],
      "metadata": {
        "id": "wLu0Sb_YWXQ-"
      },
      "execution_count": 16,
      "outputs": []
    },
    {
      "cell_type": "code",
      "source": [
        "from torch.utils.data import random_split, DataLoader\n",
        "\n",
        "from collections import defaultdict\n",
        "\n",
        "class DatasetBuilder():\n",
        "\n",
        "    def __init__(self, dataset):\n",
        "      self.shaped_dataset = []\n",
        "      self.snake_dataset = SnakeDataset(dataset)\n",
        "      # split the dataset by action\n",
        "      percent = [0.3, 0.3, 0.4]\n",
        "      generator = torch.Generator().manual_seed(42)\n",
        "      self.train_dataset, self.test_dataset, self.val_dataset = random_split(self.snake_dataset, percent, generator)\n",
        "\n",
        "    def get_dataset(self):\n",
        "      return self.snake_dataset\n",
        "\n",
        "    def get_train(self):\n",
        "      return self.train_dataset\n",
        "\n",
        "    def get_test(self):\n",
        "      return self.test_dataset\n",
        "\n",
        "    def get_val(self):\n",
        "      return self.val_dataset\n",
        "\n",
        "    def get_train_loader(self):\n",
        "      return DataLoader(self.train_dataset, batch_size=32, shuffle=True)\n",
        "\n",
        "    def get_test_loader(self):\n",
        "      return DataLoader(self.test_dataset, batch_size=1024, shuffle=True)\n",
        "\n",
        "    def get_val_loader(self):\n",
        "      return DataLoader(self.val_dataset, batch_size=1024, shuffle=True)"
      ],
      "metadata": {
        "id": "6lcbScElQjoh"
      },
      "execution_count": 17,
      "outputs": []
    },
    {
      "cell_type": "code",
      "source": [
        "dataset_builder = DatasetBuilder(read_data)"
      ],
      "metadata": {
        "id": "fdmTiy6F9bLK"
      },
      "execution_count": 18,
      "outputs": []
    },
    {
      "cell_type": "code",
      "source": [
        "ds = dataset_builder.get_dataset()\n",
        "\n",
        "# type(ds.X[0].type(torch.LongTensor))\n",
        "# type(ds.X[0].long())\n",
        "type(ds.X[0])"
      ],
      "metadata": {
        "id": "J_poYPZ91cz3",
        "colab": {
          "base_uri": "https://localhost:8080/"
        },
        "outputId": "4f4fe6d1-0031-460c-b38c-5a35b45b8f84"
      },
      "execution_count": 19,
      "outputs": [
        {
          "output_type": "execute_result",
          "data": {
            "text/plain": [
              "torch.Tensor"
            ]
          },
          "metadata": {},
          "execution_count": 19
        }
      ]
    },
    {
      "cell_type": "code",
      "source": [
        "inputs = ds.X[0]\n",
        "input_board_curr = inputs[0] \n",
        "input_boards_next = [input[1::] for input in inputs]\n",
        "\n",
        "input_board_curr.size"
      ],
      "metadata": {
        "colab": {
          "base_uri": "https://localhost:8080/"
        },
        "id": "CiFOoSnJ58SK",
        "outputId": "0974ffcb-94d2-440b-9fd2-d790b09ccf4c"
      },
      "execution_count": 20,
      "outputs": [
        {
          "output_type": "execute_result",
          "data": {
            "text/plain": [
              "<function Tensor.size>"
            ]
          },
          "metadata": {},
          "execution_count": 20
        }
      ]
    },
    {
      "cell_type": "code",
      "source": [
        "len(input_boards_next)"
      ],
      "metadata": {
        "colab": {
          "base_uri": "https://localhost:8080/"
        },
        "id": "L9lIXQFk6CaV",
        "outputId": "096bee9b-f056-4ccb-ac3d-a87b4db7cf1e"
      },
      "execution_count": 21,
      "outputs": [
        {
          "output_type": "execute_result",
          "data": {
            "text/plain": [
              "4"
            ]
          },
          "metadata": {},
          "execution_count": 21
        }
      ]
    },
    {
      "cell_type": "code",
      "source": [
        "read_data[0:10]"
      ],
      "metadata": {
        "colab": {
          "base_uri": "https://localhost:8080/"
        },
        "id": "a3YV-UqHwvyP",
        "outputId": "8400db3d-7830-415b-ff95-ed979c21442e"
      },
      "execution_count": 22,
      "outputs": [
        {
          "output_type": "execute_result",
          "data": {
            "text/plain": [
              "[{'gameState': {'height': 11,\n",
              "   'width': 11,\n",
              "   'food': [[7, 1], [5, 6], [10, 6]],\n",
              "   'hazards': [],\n",
              "   'players': [{'health': 100,\n",
              "     'body': [[3, 8]],\n",
              "     'head': [3, 8],\n",
              "     'length': 1,\n",
              "     'id': 1,\n",
              "     'alive': True,\n",
              "     'ours': True},\n",
              "    {'health': 100,\n",
              "     'body': [[10, 6]],\n",
              "     'head': [10, 6],\n",
              "     'length': 1,\n",
              "     'id': 2,\n",
              "     'alive': True,\n",
              "     'ours': False},\n",
              "    {'health': 100,\n",
              "     'body': [[6, 5]],\n",
              "     'head': [6, 5],\n",
              "     'length': 1,\n",
              "     'id': 3,\n",
              "     'alive': True,\n",
              "     'ours': False}],\n",
              "   'endState': False,\n",
              "   'won': False,\n",
              "   'lost': False,\n",
              "   'tie': False},\n",
              "  'action': 'left',\n",
              "  'reward': 0.0,\n",
              "  'nextState': {'height': 11,\n",
              "   'width': 11,\n",
              "   'food': [[7, 1], [5, 6], [10, 6]],\n",
              "   'hazards': [],\n",
              "   'players': [{'health': 99,\n",
              "     'body': [[2, 8], [3, 8]],\n",
              "     'head': [2, 8],\n",
              "     'length': 2,\n",
              "     'id': 1,\n",
              "     'alive': True,\n",
              "     'ours': True},\n",
              "    {'health': 99,\n",
              "     'body': [[9, 6], [10, 6]],\n",
              "     'head': [9, 6],\n",
              "     'length': 2,\n",
              "     'id': 2,\n",
              "     'alive': True,\n",
              "     'ours': False},\n",
              "    {'health': 99,\n",
              "     'body': [[5, 5], [6, 5]],\n",
              "     'head': [5, 5],\n",
              "     'length': 2,\n",
              "     'id': 3,\n",
              "     'alive': True,\n",
              "     'ours': False}],\n",
              "   'endState': False,\n",
              "   'won': False,\n",
              "   'lost': False,\n",
              "   'tie': False}},\n",
              " {'gameState': {'height': 11,\n",
              "   'width': 11,\n",
              "   'food': [[7, 1], [5, 6], [10, 6]],\n",
              "   'hazards': [],\n",
              "   'players': [{'health': 99,\n",
              "     'body': [[2, 8], [3, 8]],\n",
              "     'head': [2, 8],\n",
              "     'length': 2,\n",
              "     'id': 1,\n",
              "     'alive': True,\n",
              "     'ours': True},\n",
              "    {'health': 99,\n",
              "     'body': [[9, 6], [10, 6]],\n",
              "     'head': [9, 6],\n",
              "     'length': 2,\n",
              "     'id': 2,\n",
              "     'alive': True,\n",
              "     'ours': False},\n",
              "    {'health': 99,\n",
              "     'body': [[5, 5], [6, 5]],\n",
              "     'head': [5, 5],\n",
              "     'length': 2,\n",
              "     'id': 3,\n",
              "     'alive': True,\n",
              "     'ours': False}],\n",
              "   'endState': False,\n",
              "   'won': False,\n",
              "   'lost': False,\n",
              "   'tie': False},\n",
              "  'action': 'up',\n",
              "  'reward': 0.0,\n",
              "  'nextState': {'height': 11,\n",
              "   'width': 11,\n",
              "   'food': [[7, 1], [10, 6]],\n",
              "   'hazards': [],\n",
              "   'players': [{'health': 98,\n",
              "     'body': [[2, 9], [2, 8], [3, 8]],\n",
              "     'head': [2, 9],\n",
              "     'length': 3,\n",
              "     'id': 1,\n",
              "     'alive': True,\n",
              "     'ours': True},\n",
              "    {'health': 98,\n",
              "     'body': [[8, 6], [9, 6], [10, 6]],\n",
              "     'head': [8, 6],\n",
              "     'length': 3,\n",
              "     'id': 2,\n",
              "     'alive': True,\n",
              "     'ours': False},\n",
              "    {'health': 100,\n",
              "     'body': [[5, 6], [5, 5], [6, 5]],\n",
              "     'head': [5, 6],\n",
              "     'length': 3,\n",
              "     'id': 3,\n",
              "     'alive': True,\n",
              "     'ours': False}],\n",
              "   'endState': False,\n",
              "   'won': False,\n",
              "   'lost': False,\n",
              "   'tie': False}},\n",
              " {'gameState': {'height': 11,\n",
              "   'width': 11,\n",
              "   'food': [[7, 1], [10, 6], [8, 10]],\n",
              "   'hazards': [],\n",
              "   'players': [{'health': 98,\n",
              "     'body': [[2, 9], [2, 8], [3, 8]],\n",
              "     'head': [2, 9],\n",
              "     'length': 3,\n",
              "     'id': 1,\n",
              "     'alive': True,\n",
              "     'ours': True},\n",
              "    {'health': 98,\n",
              "     'body': [[8, 6], [9, 6], [10, 6]],\n",
              "     'head': [8, 6],\n",
              "     'length': 3,\n",
              "     'id': 2,\n",
              "     'alive': True,\n",
              "     'ours': False},\n",
              "    {'health': 100,\n",
              "     'body': [[5, 6], [5, 5], [6, 5]],\n",
              "     'head': [5, 6],\n",
              "     'length': 3,\n",
              "     'id': 3,\n",
              "     'alive': True,\n",
              "     'ours': False}],\n",
              "   'endState': False,\n",
              "   'won': False,\n",
              "   'lost': False,\n",
              "   'tie': False},\n",
              "  'action': 'up',\n",
              "  'reward': 0.0,\n",
              "  'nextState': {'height': 11,\n",
              "   'width': 11,\n",
              "   'food': [[7, 1], [10, 6], [8, 10]],\n",
              "   'hazards': [],\n",
              "   'players': [{'health': 97,\n",
              "     'body': [[2, 10], [2, 9], [2, 8]],\n",
              "     'head': [2, 10],\n",
              "     'length': 3,\n",
              "     'id': 1,\n",
              "     'alive': True,\n",
              "     'ours': True},\n",
              "    {'health': 97,\n",
              "     'body': [[8, 7], [8, 6], [9, 6]],\n",
              "     'head': [8, 7],\n",
              "     'length': 3,\n",
              "     'id': 2,\n",
              "     'alive': True,\n",
              "     'ours': False},\n",
              "    {'health': 99,\n",
              "     'body': [[6, 6], [5, 6], [5, 5]],\n",
              "     'head': [6, 6],\n",
              "     'length': 3,\n",
              "     'id': 3,\n",
              "     'alive': True,\n",
              "     'ours': False}],\n",
              "   'endState': False,\n",
              "   'won': False,\n",
              "   'lost': False,\n",
              "   'tie': False}},\n",
              " {'gameState': {'height': 11,\n",
              "   'width': 11,\n",
              "   'food': [[7, 1], [10, 6], [8, 10]],\n",
              "   'hazards': [],\n",
              "   'players': [{'health': 97,\n",
              "     'body': [[2, 10], [2, 9], [2, 8]],\n",
              "     'head': [2, 10],\n",
              "     'length': 3,\n",
              "     'id': 1,\n",
              "     'alive': True,\n",
              "     'ours': True},\n",
              "    {'health': 97,\n",
              "     'body': [[8, 7], [8, 6], [9, 6]],\n",
              "     'head': [8, 7],\n",
              "     'length': 3,\n",
              "     'id': 2,\n",
              "     'alive': True,\n",
              "     'ours': False},\n",
              "    {'health': 99,\n",
              "     'body': [[6, 6], [5, 6], [5, 5]],\n",
              "     'head': [6, 6],\n",
              "     'length': 3,\n",
              "     'id': 3,\n",
              "     'alive': True,\n",
              "     'ours': False}],\n",
              "   'endState': False,\n",
              "   'won': False,\n",
              "   'lost': False,\n",
              "   'tie': False},\n",
              "  'action': 'right',\n",
              "  'reward': 0.0,\n",
              "  'nextState': {'height': 11,\n",
              "   'width': 11,\n",
              "   'food': [[7, 1], [10, 6], [8, 10]],\n",
              "   'hazards': [],\n",
              "   'players': [{'health': 96,\n",
              "     'body': [[3, 10], [2, 10], [2, 9]],\n",
              "     'head': [3, 10],\n",
              "     'length': 3,\n",
              "     'id': 1,\n",
              "     'alive': True,\n",
              "     'ours': True},\n",
              "    {'health': 96,\n",
              "     'body': [[7, 7], [8, 7], [8, 6]],\n",
              "     'head': [7, 7],\n",
              "     'length': 3,\n",
              "     'id': 2,\n",
              "     'alive': True,\n",
              "     'ours': False},\n",
              "    {'health': 98,\n",
              "     'body': [[6, 7], [6, 6], [5, 6]],\n",
              "     'head': [6, 7],\n",
              "     'length': 3,\n",
              "     'id': 3,\n",
              "     'alive': True,\n",
              "     'ours': False}],\n",
              "   'endState': False,\n",
              "   'won': False,\n",
              "   'lost': False,\n",
              "   'tie': False}},\n",
              " {'gameState': {'height': 11,\n",
              "   'width': 11,\n",
              "   'food': [[7, 1], [10, 6], [8, 10]],\n",
              "   'hazards': [],\n",
              "   'players': [{'health': 96,\n",
              "     'body': [[3, 10], [2, 10], [2, 9]],\n",
              "     'head': [3, 10],\n",
              "     'length': 3,\n",
              "     'id': 1,\n",
              "     'alive': True,\n",
              "     'ours': True},\n",
              "    {'health': 96,\n",
              "     'body': [[7, 7], [8, 7], [8, 6]],\n",
              "     'head': [7, 7],\n",
              "     'length': 3,\n",
              "     'id': 2,\n",
              "     'alive': True,\n",
              "     'ours': False},\n",
              "    {'health': 98,\n",
              "     'body': [[6, 7], [6, 6], [5, 6]],\n",
              "     'head': [6, 7],\n",
              "     'length': 3,\n",
              "     'id': 3,\n",
              "     'alive': True,\n",
              "     'ours': False}],\n",
              "   'endState': False,\n",
              "   'won': False,\n",
              "   'lost': False,\n",
              "   'tie': False},\n",
              "  'action': 'right',\n",
              "  'reward': 0.0,\n",
              "  'nextState': {'height': 11,\n",
              "   'width': 11,\n",
              "   'food': [[7, 1], [10, 6], [8, 10]],\n",
              "   'hazards': [],\n",
              "   'players': [{'health': 95,\n",
              "     'body': [[4, 10], [3, 10], [2, 10]],\n",
              "     'head': [4, 10],\n",
              "     'length': 3,\n",
              "     'id': 1,\n",
              "     'alive': True,\n",
              "     'ours': True},\n",
              "    {'health': 95,\n",
              "     'body': [[7, 8], [7, 7], [8, 7]],\n",
              "     'head': [7, 8],\n",
              "     'length': 3,\n",
              "     'id': 2,\n",
              "     'alive': True,\n",
              "     'ours': False},\n",
              "    {'health': 97,\n",
              "     'body': [[6, 8], [6, 7], [6, 6]],\n",
              "     'head': [6, 8],\n",
              "     'length': 3,\n",
              "     'id': 3,\n",
              "     'alive': True,\n",
              "     'ours': False}],\n",
              "   'endState': False,\n",
              "   'won': False,\n",
              "   'lost': False,\n",
              "   'tie': False}},\n",
              " {'gameState': {'height': 11,\n",
              "   'width': 11,\n",
              "   'food': [[7, 1], [10, 6], [8, 10]],\n",
              "   'hazards': [],\n",
              "   'players': [{'health': 95,\n",
              "     'body': [[4, 10], [3, 10], [2, 10]],\n",
              "     'head': [4, 10],\n",
              "     'length': 3,\n",
              "     'id': 1,\n",
              "     'alive': True,\n",
              "     'ours': True},\n",
              "    {'health': 95,\n",
              "     'body': [[7, 8], [7, 7], [8, 7]],\n",
              "     'head': [7, 8],\n",
              "     'length': 3,\n",
              "     'id': 2,\n",
              "     'alive': True,\n",
              "     'ours': False},\n",
              "    {'health': 97,\n",
              "     'body': [[6, 8], [6, 7], [6, 6]],\n",
              "     'head': [6, 8],\n",
              "     'length': 3,\n",
              "     'id': 3,\n",
              "     'alive': True,\n",
              "     'ours': False}],\n",
              "   'endState': False,\n",
              "   'won': False,\n",
              "   'lost': False,\n",
              "   'tie': False},\n",
              "  'action': 'down',\n",
              "  'reward': 0.0,\n",
              "  'nextState': {'height': 11,\n",
              "   'width': 11,\n",
              "   'food': [[7, 1], [10, 6], [8, 10]],\n",
              "   'hazards': [],\n",
              "   'players': [{'health': 94,\n",
              "     'body': [[4, 9], [4, 10], [3, 10]],\n",
              "     'head': [4, 9],\n",
              "     'length': 3,\n",
              "     'id': 1,\n",
              "     'alive': True,\n",
              "     'ours': True},\n",
              "    {'health': 94,\n",
              "     'body': [[7, 9], [7, 8], [7, 7]],\n",
              "     'head': [7, 9],\n",
              "     'length': 3,\n",
              "     'id': 2,\n",
              "     'alive': True,\n",
              "     'ours': False},\n",
              "    {'health': 96,\n",
              "     'body': [[5, 8], [6, 8], [6, 7]],\n",
              "     'head': [5, 8],\n",
              "     'length': 3,\n",
              "     'id': 3,\n",
              "     'alive': True,\n",
              "     'ours': False}],\n",
              "   'endState': False,\n",
              "   'won': False,\n",
              "   'lost': False,\n",
              "   'tie': False}},\n",
              " {'gameState': {'height': 11,\n",
              "   'width': 11,\n",
              "   'food': [[7, 1], [10, 6], [8, 10]],\n",
              "   'hazards': [],\n",
              "   'players': [{'health': 94,\n",
              "     'body': [[4, 9], [4, 10], [3, 10]],\n",
              "     'head': [4, 9],\n",
              "     'length': 3,\n",
              "     'id': 1,\n",
              "     'alive': True,\n",
              "     'ours': True},\n",
              "    {'health': 94,\n",
              "     'body': [[7, 9], [7, 8], [7, 7]],\n",
              "     'head': [7, 9],\n",
              "     'length': 3,\n",
              "     'id': 2,\n",
              "     'alive': True,\n",
              "     'ours': False},\n",
              "    {'health': 96,\n",
              "     'body': [[5, 8], [6, 8], [6, 7]],\n",
              "     'head': [5, 8],\n",
              "     'length': 3,\n",
              "     'id': 3,\n",
              "     'alive': True,\n",
              "     'ours': False}],\n",
              "   'endState': False,\n",
              "   'won': False,\n",
              "   'lost': False,\n",
              "   'tie': False},\n",
              "  'action': 'right',\n",
              "  'reward': 0.0,\n",
              "  'nextState': {'height': 11,\n",
              "   'width': 11,\n",
              "   'food': [[7, 1], [10, 6], [8, 10]],\n",
              "   'hazards': [],\n",
              "   'players': [{'health': 93,\n",
              "     'body': [[5, 9], [4, 9], [4, 10]],\n",
              "     'head': [5, 9],\n",
              "     'length': 3,\n",
              "     'id': 1,\n",
              "     'alive': True,\n",
              "     'ours': True},\n",
              "    {'health': 93,\n",
              "     'body': [[6, 9], [7, 9], [7, 8]],\n",
              "     'head': [6, 9],\n",
              "     'length': 3,\n",
              "     'id': 2,\n",
              "     'alive': True,\n",
              "     'ours': False},\n",
              "    {'health': 95,\n",
              "     'body': [[5, 7], [5, 8], [6, 8]],\n",
              "     'head': [5, 7],\n",
              "     'length': 3,\n",
              "     'id': 3,\n",
              "     'alive': True,\n",
              "     'ours': False}],\n",
              "   'endState': False,\n",
              "   'won': False,\n",
              "   'lost': False,\n",
              "   'tie': False}},\n",
              " {'gameState': {'height': 11,\n",
              "   'width': 11,\n",
              "   'food': [[7, 1], [10, 6], [8, 10]],\n",
              "   'hazards': [],\n",
              "   'players': [{'health': 93,\n",
              "     'body': [[5, 9], [4, 9], [4, 10]],\n",
              "     'head': [5, 9],\n",
              "     'length': 3,\n",
              "     'id': 1,\n",
              "     'alive': True,\n",
              "     'ours': True},\n",
              "    {'health': 93,\n",
              "     'body': [[6, 9], [7, 9], [7, 8]],\n",
              "     'head': [6, 9],\n",
              "     'length': 3,\n",
              "     'id': 2,\n",
              "     'alive': True,\n",
              "     'ours': False},\n",
              "    {'health': 95,\n",
              "     'body': [[5, 7], [5, 8], [6, 8]],\n",
              "     'head': [5, 7],\n",
              "     'length': 3,\n",
              "     'id': 3,\n",
              "     'alive': True,\n",
              "     'ours': False}],\n",
              "   'endState': False,\n",
              "   'won': False,\n",
              "   'lost': False,\n",
              "   'tie': False},\n",
              "  'action': 'up',\n",
              "  'reward': 0.0,\n",
              "  'nextState': {'height': 11,\n",
              "   'width': 11,\n",
              "   'food': [[7, 1], [10, 6], [8, 10]],\n",
              "   'hazards': [],\n",
              "   'players': [{'health': 92,\n",
              "     'body': [[5, 10], [5, 9], [4, 9]],\n",
              "     'head': [5, 10],\n",
              "     'length': 3,\n",
              "     'id': 1,\n",
              "     'alive': True,\n",
              "     'ours': True},\n",
              "    {'health': 92,\n",
              "     'body': [[6, 10], [6, 9], [7, 9]],\n",
              "     'head': [6, 10],\n",
              "     'length': 3,\n",
              "     'id': 2,\n",
              "     'alive': True,\n",
              "     'ours': False},\n",
              "    {'health': 94,\n",
              "     'body': [[4, 7], [5, 7], [5, 8]],\n",
              "     'head': [4, 7],\n",
              "     'length': 3,\n",
              "     'id': 3,\n",
              "     'alive': True,\n",
              "     'ours': False}],\n",
              "   'endState': False,\n",
              "   'won': False,\n",
              "   'lost': False,\n",
              "   'tie': False}},\n",
              " {'gameState': {'height': 11,\n",
              "   'width': 11,\n",
              "   'food': [[7, 1], [10, 6], [8, 10]],\n",
              "   'hazards': [],\n",
              "   'players': [{'health': 92,\n",
              "     'body': [[5, 10], [5, 9], [4, 9]],\n",
              "     'head': [5, 10],\n",
              "     'length': 3,\n",
              "     'id': 1,\n",
              "     'alive': True,\n",
              "     'ours': True},\n",
              "    {'health': 92,\n",
              "     'body': [[6, 10], [6, 9], [7, 9]],\n",
              "     'head': [6, 10],\n",
              "     'length': 3,\n",
              "     'id': 2,\n",
              "     'alive': True,\n",
              "     'ours': False},\n",
              "    {'health': 94,\n",
              "     'body': [[4, 7], [5, 7], [5, 8]],\n",
              "     'head': [4, 7],\n",
              "     'length': 3,\n",
              "     'id': 3,\n",
              "     'alive': True,\n",
              "     'ours': False}],\n",
              "   'endState': False,\n",
              "   'won': False,\n",
              "   'lost': False,\n",
              "   'tie': False},\n",
              "  'action': 'left',\n",
              "  'reward': 0.0,\n",
              "  'nextState': {'height': 11,\n",
              "   'width': 11,\n",
              "   'food': [[7, 1], [10, 6], [8, 10]],\n",
              "   'hazards': [],\n",
              "   'players': [{'health': 91,\n",
              "     'body': [[4, 10], [5, 10], [5, 9]],\n",
              "     'head': [4, 10],\n",
              "     'length': 3,\n",
              "     'id': 1,\n",
              "     'alive': True,\n",
              "     'ours': True},\n",
              "    {'health': 91,\n",
              "     'body': [[7, 10], [6, 10], [6, 9]],\n",
              "     'head': [7, 10],\n",
              "     'length': 3,\n",
              "     'id': 2,\n",
              "     'alive': True,\n",
              "     'ours': False},\n",
              "    {'health': 93,\n",
              "     'body': [[4, 8], [4, 7], [5, 7]],\n",
              "     'head': [4, 8],\n",
              "     'length': 3,\n",
              "     'id': 3,\n",
              "     'alive': True,\n",
              "     'ours': False}],\n",
              "   'endState': False,\n",
              "   'won': False,\n",
              "   'lost': False,\n",
              "   'tie': False}},\n",
              " {'gameState': {'height': 11,\n",
              "   'width': 11,\n",
              "   'food': [[7, 1], [10, 6], [8, 10]],\n",
              "   'hazards': [],\n",
              "   'players': [{'health': 91,\n",
              "     'body': [[4, 10], [5, 10], [5, 9]],\n",
              "     'head': [4, 10],\n",
              "     'length': 3,\n",
              "     'id': 1,\n",
              "     'alive': True,\n",
              "     'ours': True},\n",
              "    {'health': 91,\n",
              "     'body': [[7, 10], [6, 10], [6, 9]],\n",
              "     'head': [7, 10],\n",
              "     'length': 3,\n",
              "     'id': 2,\n",
              "     'alive': True,\n",
              "     'ours': False},\n",
              "    {'health': 93,\n",
              "     'body': [[4, 8], [4, 7], [5, 7]],\n",
              "     'head': [4, 8],\n",
              "     'length': 3,\n",
              "     'id': 3,\n",
              "     'alive': True,\n",
              "     'ours': False}],\n",
              "   'endState': False,\n",
              "   'won': False,\n",
              "   'lost': False,\n",
              "   'tie': False},\n",
              "  'action': 'left',\n",
              "  'reward': 0.0,\n",
              "  'nextState': {'height': 11,\n",
              "   'width': 11,\n",
              "   'food': [[7, 1], [10, 6]],\n",
              "   'hazards': [],\n",
              "   'players': [{'health': 90,\n",
              "     'body': [[3, 10], [4, 10], [5, 10]],\n",
              "     'head': [3, 10],\n",
              "     'length': 3,\n",
              "     'id': 1,\n",
              "     'alive': True,\n",
              "     'ours': True},\n",
              "    {'health': 100,\n",
              "     'body': [[8, 10], [7, 10], [6, 10], [6, 9]],\n",
              "     'head': [8, 10],\n",
              "     'length': 4,\n",
              "     'id': 2,\n",
              "     'alive': True,\n",
              "     'ours': False},\n",
              "    {'health': 92,\n",
              "     'body': [[5, 8], [4, 8], [4, 7]],\n",
              "     'head': [5, 8],\n",
              "     'length': 3,\n",
              "     'id': 3,\n",
              "     'alive': True,\n",
              "     'ours': False}],\n",
              "   'endState': False,\n",
              "   'won': False,\n",
              "   'lost': False,\n",
              "   'tie': False}}]"
            ]
          },
          "metadata": {},
          "execution_count": 22
        }
      ]
    },
    {
      "cell_type": "code",
      "source": [
        "import random\n",
        "\n",
        "train_dl = dataset_builder.get_train_loader()\n",
        "\n",
        "# Display image and label.\n",
        "train_features, train_labels = next(iter(train_dl))\n",
        "example_boards = train_features[0]\n",
        "example_curr = example_boards[0]\n",
        "print(f\"Feature batch shape: {train_features.size()}\")\n",
        "print(f\"Labels batch shape: {train_labels.size()}\")\n",
        "label = train_labels[0]\n",
        "img = example_curr.squeeze()\n",
        "count = len(img)\n",
        "idx = random.randint(0, count-1)\n",
        "channel = img[idx]\n",
        "plt.imshow(channel, cmap=\"gray\")\n",
        "plt.show()\n",
        "print(f\"Label: {label}\")"
      ],
      "metadata": {
        "colab": {
          "base_uri": "https://localhost:8080/",
          "height": 484
        },
        "id": "-KF0E1F_ddP4",
        "outputId": "012ea703-c4f2-431f-f0a8-794f058369eb"
      },
      "execution_count": 23,
      "outputs": [
        {
          "output_type": "stream",
          "name": "stdout",
          "text": [
            "Feature batch shape: torch.Size([32, 4, 15, 32, 32])\n",
            "Labels batch shape: torch.Size([32])\n"
          ]
        },
        {
          "output_type": "display_data",
          "data": {
            "text/plain": [
              "<Figure size 640x480 with 1 Axes>"
            ],
            "image/png": "[encoded data removed]"
          },
          "metadata": {}
        },
        {
          "output_type": "stream",
          "name": "stdout",
          "text": [
            "Label: 0.0\n"
          ]
        }
      ]
    },
    {
      "cell_type": "markdown",
      "source": [
        "# Modeling\n",
        "\n",
        "\n",
        "https://machinelearningmastery.com/building-a-convolutional-neural-network-in-pytorch/"
      ],
      "metadata": {
        "id": "a_YQ5_fEWXV3"
      }
    },
    {
      "cell_type": "code",
      "source": [
        "import torch.nn as nn\n",
        "import torch.optim as optim\n",
        "\n",
        "\n",
        "class CIFAR10Model(nn.Module):\n",
        "    def __init__(self, \n",
        "                 channel_count, # adversary, self, hazard, food, etc\n",
        "                 label_count = 10\n",
        "                 ):\n",
        "        super().__init__()\n",
        "        self.conv1 = nn.Conv2d(in_channels=channel_count,  \n",
        "                               out_channels=32, # number of filters\n",
        "                               kernel_size=(3,3), \n",
        "                               stride=1, \n",
        "                               padding=1)\n",
        "        self.act1 = nn.ReLU()\n",
        "        self.drop1 = nn.Dropout(0.3)\n",
        " \n",
        "        self.conv2 = nn.Conv2d(in_channels=32, \n",
        "                               out_channels=32, \n",
        "                               kernel_size=(3,3), \n",
        "                               stride=1, \n",
        "                               padding=1)\n",
        "        self.act2 = nn.ReLU()\n",
        "        self.pool2 = nn.MaxPool2d(kernel_size=(2, 2))\n",
        " \n",
        "        self.flat = nn.Flatten()\n",
        " \n",
        "        self.fc3 = nn.Linear(8192, 512)\n",
        "        self.act3 = nn.ReLU()\n",
        "        self.drop3 = nn.Dropout(0.5)\n",
        " \n",
        "        self.fc4 = nn.Linear(512, label_count)\n",
        " \n",
        "    def forward(self, x):\n",
        "        # input 3x32x32, output 32x32x32\n",
        "        x = self.conv1(x)\n",
        "        x = self.act1(x)\n",
        "        x = self.drop1(x)\n",
        "        # input 32x32x32, output 32x32x32\n",
        "        x = self.act2(self.conv2(x))\n",
        "        # input 32x32x32, output 32x16x16\n",
        "        x = self.pool2(x)\n",
        "        # input 32x16x16, output 8192\n",
        "        x = self.flat(x)\n",
        "        # input 8192, output 512\n",
        "        x = self.act3(self.fc3(x))\n",
        "        x = self.drop3(x)\n",
        "        # input 512, output 10\n",
        "        x = self.fc4(x)\n",
        "        return x"
      ],
      "metadata": {
        "id": "ktqHtWe8WZLm"
      },
      "execution_count": 24,
      "outputs": []
    },
    {
      "cell_type": "code",
      "source": [
        "# ex = ShapedExample(read_data[0])\n",
        "# model = CIFAR10Model(channel_count=ex.channel_count(),\n",
        "#                      label_count=1)\n",
        "# loss_fn = nn.MSELoss() \n",
        "# # loss_fn = nn.CrossEntropyLoss() \n",
        "# optimizer = optim.SGD(model.parameters(), lr=0.001, momentum=0.9)"
      ],
      "metadata": {
        "id": "ElYRjVHGYHgO"
      },
      "execution_count": 25,
      "outputs": []
    },
    {
      "cell_type": "code",
      "source": [
        "# import torch\n",
        "# import torch.nn as nn\n",
        "\n",
        "# input = torch.randn(3, 5, requires_grad=True)\n",
        "# target = torch.randn(3, 5)\n",
        "\n",
        "# hinge_loss = nn.HingeEmbeddingLoss()\n",
        "# output = hinge_loss(input, target)\n",
        "# output.backward()\n",
        "\n",
        "# print('input: ', input)\n",
        "# print('target: ', target)\n",
        "# print('output: ', output)"
      ],
      "metadata": {
        "id": "z7scjUpAuSe4"
      },
      "execution_count": 26,
      "outputs": []
    },
    {
      "cell_type": "code",
      "source": [
        "# # Example of target with class indices\n",
        "# loss = nn.CrossEntropyLoss()\n",
        "# input = torch.randn(3, 5, requires_grad=True)\n",
        "# target = torch.empty(3, dtype=torch.long).random_(5)\n",
        "# output = loss(input, target)\n",
        "# output.backward()\n",
        "# output"
      ],
      "metadata": {
        "id": "jSQ3M-0llQnz"
      },
      "execution_count": 27,
      "outputs": []
    },
    {
      "cell_type": "code",
      "source": [
        "# # Example of target with class probabilities\n",
        "# input = torch.randn(3, 5, requires_grad=True)\n",
        "# target = torch.randn(3, 5).softmax(dim=1)\n",
        "# output = loss(input, target)\n",
        "# output.backward()\n",
        "# output"
      ],
      "metadata": {
        "id": "rzCpa7TevTNT"
      },
      "execution_count": 28,
      "outputs": []
    },
    {
      "cell_type": "markdown",
      "source": [
        "# Training"
      ],
      "metadata": {
        "id": "2wIjeUDJjZeG"
      }
    },
    {
      "cell_type": "code",
      "source": [
        "class ModelTrainer():\n",
        "\n",
        "    def __init__(self, dataset_builder, l1_scale, l2_scale):\n",
        "        self.dataset_builder = dataset_builder\n",
        "        self.l1_scale = l1_scale\n",
        "        self.l2_scale = l2_scale\n",
        "\n",
        "    def train_test(self, model, n_epochs=20, is_instant_only=True):\n",
        "        for epoch in range(n_epochs):\n",
        "            ### train\n",
        "            for inputs, labels in self.get_train_loader(epoch):\n",
        "                input_board_curr, input_boards_next = self.get_boards(inputs)\n",
        "                ### forward, loss\n",
        "                y_pred = model(input_board_curr)\n",
        "                # account for optimal policy at next state\n",
        "                if not is_instant_only:\n",
        "                  labels += self.optimal_value_of_next_state(input_boards_next, model)\n",
        "                loss = loss_fn(y_pred, labels)\n",
        "                l1_reg_loss = 0\n",
        "                l2_reg_loss = 0\n",
        "                for param in model.parameters():\n",
        "                  l1_reg_loss += torch.norm(param)\n",
        "                  l2_reg_loss += torch.norm(param)\n",
        "                loss += self.l1_scale * l1_reg_loss                   \n",
        "                loss += self.l2_scale * l2_reg_loss                   \n",
        "                ### backward, weight update\n",
        "                optimizer.zero_grad()\n",
        "                loss.backward()\n",
        "                optimizer.step()\n",
        "            ### log progress\n",
        "            self.regression_test(epoch, model)\n",
        "            # self.classification_test(epoch, model)\n",
        "\n",
        "    def optimal_value_of_next_state(self, input_boards_next, model):\n",
        "        # tensor.detach().numpy()\n",
        "        values = [model(board) for board in input_boards_next]\n",
        "        values = [np.amax(inferred.detach().numpy()) for inferred in values]\n",
        "        values = torch.Tensor(np.array(values)).type(torch.FloatTensor) \n",
        "        return values\n",
        "\n",
        "    def get_boards(self, inputs):\n",
        "        ### current vs next boards\n",
        "        input_board_curr = inputs[0]\n",
        "        input_boards_next = [input[1::] for input in inputs]\n",
        "        return input_board_curr, input_boards_next\n",
        "\n",
        "    def regression_test(self, epoch, model):\n",
        "        acc = 0\n",
        "        count = 0\n",
        "        for inputs, labels in self.get_test_loader(epoch):\n",
        "            input_board_curr, input_boards_next = self.get_boards(inputs)\n",
        "            y_pred = model(input_board_curr)\n",
        "            acc = abs(y_pred - labels).float().sum()\n",
        "            count += len(labels)\n",
        "        acc /= count\n",
        "        print(f\"Epoch {epoch}... error={acc}\")\n",
        "\n",
        "    def classification_test(self, epoch, model):\n",
        "        acc = 0\n",
        "        count = 0\n",
        "        for inputs, labels in self.get_test_loader(epoch):\n",
        "            input_board_curr, input_boards_next = self.get_boards(inputs)\n",
        "            y_pred = model(input_board_curr)\n",
        "            acc += (torch.argmax(y_pred, 1) == labels).float().sum()\n",
        "            count += len(labels)\n",
        "        acc /= count\n",
        "        print(f\"Epoch {epoch}... accuracy={acc}\")\n",
        "\n",
        "    def get_train_loader(self, epoch):\n",
        "        if epoch == 0:\n",
        "           return dataset_builder.get_train_loader()\n",
        "        return dataset_builder.get_train_loader()\n",
        "\n",
        "    def get_test_loader(self, epoch):\n",
        "        if epoch == 0:\n",
        "           return dataset_builder.get_test_loader()\n",
        "        return dataset_builder.get_test_loader()\n"
      ],
      "metadata": {
        "id": "gR49TLRBW-n6"
      },
      "execution_count": 72,
      "outputs": []
    },
    {
      "cell_type": "code",
      "source": [
        "ex = ShapedExample(read_data[0])\n",
        "model = CIFAR10Model(channel_count=ex.board_curr.channel_count(),\n",
        "                     label_count=1)\n",
        "loss_fn = nn.MSELoss() \n",
        "# loss_fn = nn.CrossEntropyLoss() \n",
        "optimizer = optim.SGD(model.parameters(), lr=0.0001, momentum=0.99) # lr=0.00001 0.0000000001"
      ],
      "metadata": {
        "id": "OBR_Z7Kc2z5i"
      },
      "execution_count": 73,
      "outputs": []
    },
    {
      "cell_type": "code",
      "source": [
        "trainer = ModelTrainer(dataset_builder,\n",
        "                       l1_scale = 1, l2_scale = 0.5)\n",
        "\n",
        "trainer.train_test(model, n_epochs=5, is_instant_only=True)"
      ],
      "metadata": {
        "colab": {
          "base_uri": "https://localhost:8080/"
        },
        "id": "ucvEUYu_Zz8l",
        "outputId": "7164b850-87d2-4be9-85d8-502e0f294cb8"
      },
      "execution_count": 74,
      "outputs": [
        {
          "output_type": "stream",
          "name": "stderr",
          "text": [
            "/usr/local/lib/python3.10/dist-packages/torch/nn/modules/loss.py:536: UserWarning: Using a target size (torch.Size([32])) that is different to the input size (torch.Size([4, 1])). This will likely lead to incorrect results due to broadcasting. Please ensure they have the same size.\n",
            "  return F.mse_loss(input, target, reduction=self.reduction)\n",
            "/usr/local/lib/python3.10/dist-packages/torch/nn/modules/loss.py:536: UserWarning: Using a target size (torch.Size([25])) that is different to the input size (torch.Size([4, 1])). This will likely lead to incorrect results due to broadcasting. Please ensure they have the same size.\n",
            "  return F.mse_loss(input, target, reduction=self.reduction)\n"
          ]
        },
        {
          "output_type": "stream",
          "name": "stdout",
          "text": [
            "Epoch 0... error=0.09289884567260742\n",
            "Epoch 1... error=0.12030483037233353\n",
            "Epoch 2... error=0.09071291238069534\n",
            "Epoch 3... error=0.04318663477897644\n",
            "Epoch 4... error=0.03843697905540466\n"
          ]
        }
      ]
    },
    {
      "cell_type": "code",
      "source": [
        "trainer.train_test(model, n_epochs=5, is_instant_only=False)"
      ],
      "metadata": {
        "colab": {
          "base_uri": "https://localhost:8080/"
        },
        "id": "6IaKpaxMbGlr",
        "outputId": "4f3f98b9-7c2a-40f6-fda2-9ee781bfd6fc"
      },
      "execution_count": 75,
      "outputs": [
        {
          "output_type": "stream",
          "name": "stderr",
          "text": [
            "/usr/local/lib/python3.10/dist-packages/torch/nn/modules/loss.py:536: UserWarning: Using a target size (torch.Size([32])) that is different to the input size (torch.Size([4, 1])). This will likely lead to incorrect results due to broadcasting. Please ensure they have the same size.\n",
            "  return F.mse_loss(input, target, reduction=self.reduction)\n",
            "/usr/local/lib/python3.10/dist-packages/torch/nn/modules/loss.py:536: UserWarning: Using a target size (torch.Size([25])) that is different to the input size (torch.Size([4, 1])). This will likely lead to incorrect results due to broadcasting. Please ensure they have the same size.\n",
            "  return F.mse_loss(input, target, reduction=self.reduction)\n"
          ]
        },
        {
          "output_type": "stream",
          "name": "stdout",
          "text": [
            "Epoch 0... error=0.03960588574409485\n",
            "Epoch 1... error=0.05731692910194397\n",
            "Epoch 2... error=0.014725753106176853\n",
            "Epoch 3... error=0.056482892483472824\n",
            "Epoch 4... error=0.04654152691364288\n"
          ]
        }
      ]
    },
    {
      "cell_type": "code",
      "source": [
        "# train_features, train_labels = next(iter(train_dl))\n",
        "\n",
        "# model(train_features[0])"
      ],
      "metadata": {
        "id": "Lam_DxaukibA"
      },
      "execution_count": null,
      "outputs": []
    },
    {
      "cell_type": "code",
      "source": [
        "# train_features, train_labels = next(iter(train_dl))\n",
        "\n",
        "# single_example = train_features[0]\n",
        "# single_board = [ single_example[0] ]\n",
        "# loader = DataLoader(single_board, batch_size=1, shuffle=True)\n",
        "\n",
        "# model(next(iter(loader)))\n",
        "\n",
        "# # example = torch.Tensor()\n",
        "# # example = train_features[0]\n",
        "# # label = train_labels[0]\n",
        "# # img = example.squeeze()\n",
        "\n",
        "# # model(example)"
      ],
      "metadata": {
        "id": "tfcMX2EWiQO0"
      },
      "execution_count": null,
      "outputs": []
    },
    {
      "cell_type": "code",
      "source": [
        "# next(iter(loader))"
      ],
      "metadata": {
        "id": "Pq6Va_pokbPI"
      },
      "execution_count": null,
      "outputs": []
    },
    {
      "cell_type": "markdown",
      "source": [
        "# Evaluate"
      ],
      "metadata": {
        "id": "a6w2HCgZW_T5"
      }
    },
    {
      "cell_type": "code",
      "source": [],
      "metadata": {
        "id": "vYOxhzhoXAD7"
      },
      "execution_count": null,
      "outputs": []
    },
    {
      "cell_type": "code",
      "source": [],
      "metadata": {
        "id": "44ro3OP9XDgH"
      },
      "execution_count": null,
      "outputs": []
    },
    {
      "cell_type": "markdown",
      "source": [
        "# Save"
      ],
      "metadata": {
        "id": "kiVPdDUuXavI"
      }
    },
    {
      "cell_type": "code",
      "source": [
        "torch.save(model.state_dict(), \"/content/drive/MyDrive/snake-model-1.pth\")"
      ],
      "metadata": {
        "id": "NPqVrr4oXaKH"
      },
      "execution_count": 76,
      "outputs": []
    },
    {
      "cell_type": "markdown",
      "source": [
        "# Predict\n"
      ],
      "metadata": {
        "id": "-El24w6cXCZS"
      }
    },
    {
      "cell_type": "code",
      "source": [
        "class SnakeInference():\n",
        "\n",
        "    def __init__(self):\n",
        "        self.model = CIFAR10Model(channel_count=15,\n",
        "                                  label_count=1)\n",
        "        self.model.load_state_dict(torch.load('/content/drive/MyDrive/snake-model-1.pth'))\n",
        "        self.model.eval()\n",
        "        \n",
        "\n",
        "    def value(self, example):\n",
        "        shaped = ShapedExample(example)\n",
        "        board = shaped.board_curr.get_board()\n",
        "        input = torch.Tensor(np.array([board])).type(torch.FloatTensor)\n",
        "        inferred = self.model(input)\n",
        "        return inferred.detach().numpy()[0][0]"
      ],
      "metadata": {
        "id": "oNcbLKFpbfAa"
      },
      "execution_count": 100,
      "outputs": []
    },
    {
      "cell_type": "code",
      "source": [
        "snaky = SnakeInference()\n",
        "\n",
        "snaky.value(read_data[0])"
      ],
      "metadata": {
        "colab": {
          "base_uri": "https://localhost:8080/"
        },
        "id": "M4bBdWjpjCX9",
        "outputId": "db5af7d4-4bc5-4409-a997-3bc794f10d1a"
      },
      "execution_count": 101,
      "outputs": [
        {
          "output_type": "execute_result",
          "data": {
            "text/plain": [
              "-0.043658957"
            ]
          },
          "metadata": {},
          "execution_count": 101
        }
      ]
    },
    {
      "cell_type": "code",
      "source": [],
      "metadata": {
        "id": "tY31M3BPjO6x"
      },
      "execution_count": null,
      "outputs": []
    }
  ]
}