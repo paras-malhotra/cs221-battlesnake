{
  "cells": [
    {
      "cell_type": "markdown",
      "metadata": {
        "id": "gj-1NHdQtF44"
      },
      "source": [
        "# Home\n",
        "\n"
      ]
    },
    {
      "cell_type": "code",
      "execution_count": 1,
      "metadata": {
        "id": "GOMTECTQuxzB"
      },
      "outputs": [],
      "source": [
        "WORK_DIR = \"/content/drive/MyDrive/BattleSnake\"\n",
        "REPO_NAME = \"DeepThinkingBattleSnake\"\n",
        "GIT_HOME = \"https://github.com/pablo-tech/\"\n",
        "GIT_REPO = GIT_HOME + REPO_NAME\n",
        "REPO_DIR = WORK_DIR + \"/\" + REPO_NAME"
      ]
    },
    {
      "cell_type": "code",
      "execution_count": 2,
      "metadata": {
        "id": "nIJp4GFneWCL"
      },
      "outputs": [],
      "source": [
        "!mkdir -p $WORK_DIR"
      ]
    },
    {
      "cell_type": "code",
      "execution_count": 3,
      "metadata": {
        "id": "OKqcBeE-R3B9"
      },
      "outputs": [],
      "source": [
        "import os\n",
        "\n",
        "os.chdir(WORK_DIR)"
      ]
    },
    {
      "cell_type": "code",
      "execution_count": 4,
      "metadata": {
        "id": "VpWUcir1uCSn"
      },
      "outputs": [],
      "source": [
        "!rm -rf $REPO_NAME"
      ]
    },
    {
      "cell_type": "markdown",
      "metadata": {
        "id": "wlazaWmqNW8V"
      },
      "source": [
        "# Git"
      ]
    },
    {
      "cell_type": "code",
      "source": [
        "BRANCH_NAME = \"plain\""
      ],
      "metadata": {
        "id": "HN4Ziwq2O5Sj"
      },
      "execution_count": 5,
      "outputs": []
    },
    {
      "cell_type": "code",
      "execution_count": 6,
      "metadata": {
        "colab": {
          "base_uri": "https://localhost:8080/"
        },
        "id": "i5u9GtzlRyVv",
        "outputId": "b7890df5-30a8-42a7-8d31-9820699cb40a"
      },
      "outputs": [
        {
          "output_type": "stream",
          "name": "stdout",
          "text": [
            "Cloning into 'DeepThinkingBattleSnake'...\n",
            "remote: Enumerating objects: 319, done.\u001b[K\n",
            "remote: Counting objects: 100% (126/126), done.\u001b[K\n",
            "remote: Compressing objects: 100% (84/84), done.\u001b[K\n",
            "remote: Total 319 (delta 75), reused 89 (delta 41), pack-reused 193\u001b[K\n",
            "Receiving objects: 100% (319/319), 14.89 MiB | 29.72 MiB/s, done.\n",
            "Resolving deltas: 100% (185/185), done.\n"
          ]
        }
      ],
      "source": [
        "!git clone $GIT_REPO"
      ]
    },
    {
      "cell_type": "code",
      "execution_count": 7,
      "metadata": {
        "id": "wC1Ew-KavRM-"
      },
      "outputs": [],
      "source": [
        "os.chdir(REPO_DIR)"
      ]
    },
    {
      "cell_type": "code",
      "execution_count": 8,
      "metadata": {
        "colab": {
          "base_uri": "https://localhost:8080/"
        },
        "id": "GxWgAggMvWEe",
        "outputId": "1be74611-946f-4fc4-c6de-6535692d465f"
      },
      "outputs": [
        {
          "output_type": "stream",
          "name": "stdout",
          "text": [
            "/content/drive/MyDrive/BattleSnake/DeepThinkingBattleSnake\n"
          ]
        }
      ],
      "source": [
        "!pwd"
      ]
    },
    {
      "cell_type": "code",
      "execution_count": 9,
      "metadata": {
        "colab": {
          "base_uri": "https://localhost:8080/"
        },
        "id": "gD5mUpgAtlR4",
        "outputId": "8bf7f2a3-9297-4311-c76e-f8d2e9f7011e"
      },
      "outputs": [
        {
          "output_type": "stream",
          "name": "stdout",
          "text": [
            "Branch 'plain' set up to track remote branch 'plain' from 'origin'.\n",
            "Switched to a new branch 'plain'\n"
          ]
        }
      ],
      "source": [
        "!git checkout $BRANCH_NAME"
      ]
    },
    {
      "cell_type": "code",
      "execution_count": 10,
      "metadata": {
        "colab": {
          "base_uri": "https://localhost:8080/"
        },
        "id": "JUKLWkzMuYwJ",
        "outputId": "98cc33f4-ebd9-449e-b6cf-e9ac492613fe"
      },
      "outputs": [
        {
          "output_type": "stream",
          "name": "stdout",
          "text": [
            "Already up to date.\n"
          ]
        }
      ],
      "source": [
        "!git pull"
      ]
    },
    {
      "cell_type": "code",
      "execution_count": 11,
      "metadata": {
        "colab": {
          "base_uri": "https://localhost:8080/"
        },
        "id": "4bVHUXsAuVLv",
        "outputId": "4d0535f1-fefb-4cb6-8e64-486bfa57a085"
      },
      "outputs": [
        {
          "output_type": "stream",
          "name": "stdout",
          "text": [
            "# flask\n",
            "Flask==2.1.0\n",
            "# gcp\n",
            "gunicorn==20.1.0"
          ]
        }
      ],
      "source": [
        "!cat requirements.txt"
      ]
    },
    {
      "cell_type": "code",
      "execution_count": 12,
      "metadata": {
        "colab": {
          "base_uri": "https://localhost:8080/"
        },
        "id": "qxqZ_OIsR-dF",
        "outputId": "49965175-5223-4474-de32-dc2f9ca01ad5"
      },
      "outputs": [
        {
          "output_type": "stream",
          "name": "stdout",
          "text": [
            "Requirement already satisfied: Flask==2.1.0 in /usr/local/lib/python3.10/dist-packages (from -r requirements.txt (line 2)) (2.1.0)\n",
            "Requirement already satisfied: gunicorn==20.1.0 in /usr/local/lib/python3.10/dist-packages (from -r requirements.txt (line 4)) (20.1.0)\n",
            "Requirement already satisfied: Werkzeug>=2.0 in /usr/local/lib/python3.10/dist-packages (from Flask==2.1.0->-r requirements.txt (line 2)) (2.3.6)\n",
            "Requirement already satisfied: Jinja2>=3.0 in /usr/local/lib/python3.10/dist-packages (from Flask==2.1.0->-r requirements.txt (line 2)) (3.1.2)\n",
            "Requirement already satisfied: itsdangerous>=2.0 in /usr/local/lib/python3.10/dist-packages (from Flask==2.1.0->-r requirements.txt (line 2)) (2.1.2)\n",
            "Requirement already satisfied: click>=8.0 in /usr/local/lib/python3.10/dist-packages (from Flask==2.1.0->-r requirements.txt (line 2)) (8.1.6)\n",
            "Requirement already satisfied: setuptools>=3.0 in /usr/local/lib/python3.10/dist-packages (from gunicorn==20.1.0->-r requirements.txt (line 4)) (67.7.2)\n",
            "Requirement already satisfied: MarkupSafe>=2.0 in /usr/local/lib/python3.10/dist-packages (from Jinja2>=3.0->Flask==2.1.0->-r requirements.txt (line 2)) (2.1.3)\n"
          ]
        }
      ],
      "source": [
        "!pip install -r requirements.txt"
      ]
    },
    {
      "cell_type": "markdown",
      "metadata": {
        "id": "OGdwaKUINPnR"
      },
      "source": [
        "# Ngrok"
      ]
    },
    {
      "cell_type": "markdown",
      "source": [
        "### Dependency"
      ],
      "metadata": {
        "id": "AGayXPsgs1qv"
      }
    },
    {
      "cell_type": "code",
      "source": [
        "!pip install pyngrok"
      ],
      "metadata": {
        "colab": {
          "base_uri": "https://localhost:8080/"
        },
        "id": "sQrRG_eWs2-V",
        "outputId": "95be16eb-5809-42da-df84-3eab9216217a"
      },
      "execution_count": 13,
      "outputs": [
        {
          "output_type": "stream",
          "name": "stdout",
          "text": [
            "Requirement already satisfied: pyngrok in /usr/local/lib/python3.10/dist-packages (6.0.0)\n",
            "Requirement already satisfied: PyYAML in /usr/local/lib/python3.10/dist-packages (from pyngrok) (6.0.1)\n"
          ]
        }
      ]
    },
    {
      "cell_type": "markdown",
      "source": [
        "### Env"
      ],
      "metadata": {
        "id": "ywL9o9kBs0YL"
      }
    },
    {
      "cell_type": "code",
      "execution_count": 14,
      "metadata": {
        "id": "B5dvTnCyLYMT"
      },
      "outputs": [],
      "source": [
        "PORT_NUMBER = 5000\n",
        "NGROK_ENV = \"/root/.ngrok2/ngrok.yml\"\n",
        "NGROK_LOCAL = \"ngrok.yaml\""
      ]
    },
    {
      "cell_type": "markdown",
      "metadata": {
        "id": "sZF1oPgHB2om"
      },
      "source": [
        "### Registration"
      ]
    },
    {
      "cell_type": "code",
      "source": [
        "from pyngrok import ngrok\n",
        "\n",
        "ngrok.kill()\n",
        "\n",
        "ngrok.set_auth_token(\"2SwRcL56pZ0qBsTGtxtty3qVePt_6q9mrXV7f6P5wXCmekL7Q\")\n",
        "\n",
        "public_url =  ngrok.connect(PORT_NUMBER).public_url\n",
        "\n",
        "public_url"
      ],
      "metadata": {
        "colab": {
          "base_uri": "https://localhost:8080/",
          "height": 73
        },
        "id": "OcxlFwnBP03b",
        "outputId": "fb354308-45b8-46be-bf1d-24e2b133f44d"
      },
      "execution_count": 15,
      "outputs": [
        {
          "output_type": "stream",
          "name": "stderr",
          "text": [
            "WARNING:pyngrok.process.ngrok:t=2023-07-28T20:50:37+0000 lvl=warn msg=\"ngrok config file found at legacy location, move to XDG location\" xdg_path=/root/.config/ngrok/ngrok.yml legacy_path=/root/.ngrok2/ngrok.yml\n"
          ]
        },
        {
          "output_type": "execute_result",
          "data": {
            "text/plain": [
              "'https://b363-104-197-107-234.ngrok-free.app'"
            ],
            "application/vnd.google.colaboratory.intrinsic+json": {
              "type": "string"
            }
          },
          "metadata": {},
          "execution_count": 15
        }
      ]
    },
    {
      "cell_type": "markdown",
      "metadata": {
        "id": "VK0sVfGLLZ4a"
      },
      "source": [
        "### Configuration"
      ]
    },
    {
      "cell_type": "code",
      "execution_count": 16,
      "metadata": {
        "colab": {
          "base_uri": "https://localhost:8080/"
        },
        "id": "Om82k73toioS",
        "outputId": "b6c54d2b-5cbb-478c-a85d-9a030d3f01ef"
      },
      "outputs": [
        {
          "output_type": "stream",
          "name": "stdout",
          "text": [
            "region: us\n",
            "version: '2'\n",
            "authtoken: 2SwRcL56pZ0qBsTGtxtty3qVePt_6q9mrXV7f6P5wXCmekL7Q\n"
          ]
        }
      ],
      "source": [
        "!cat $NGROK_ENV"
      ]
    },
    {
      "cell_type": "markdown",
      "metadata": {
        "id": "819go3q_B4g6"
      },
      "source": [
        "### Diagnose"
      ]
    },
    {
      "cell_type": "code",
      "execution_count": 17,
      "metadata": {
        "colab": {
          "base_uri": "https://localhost:8080/"
        },
        "id": "5JR8J7oL45gn",
        "outputId": "03dff681-18d2-46d9-b3d4-049096222885"
      },
      "outputs": [
        {
          "output_type": "stream",
          "name": "stdout",
          "text": [
            "Testing ngrok connectivity...\n",
            "\n",
            "Internet Connectivity\n",
            "  Name Resolution                           [ OK ]\n",
            "  TCP                                       [ OK ]\n",
            "  TLS                                       [ OK ]\n",
            "Localhost Connectivity\n",
            "  Name Resolution                           [ OK ]\n",
            "Ngrok Connectivity - Region: United States\n",
            "  Name Resolution                           [ OK ]\n",
            "  TCP                                       [ OK ]\n",
            "  TLS                                       [ OK ]\n",
            "  Tunnel Protocol                           [ OK ]\n",
            "Successfully established ngrok connection! (region: 'us', latency: 27.230919ms)\n",
            "\n"
          ]
        }
      ],
      "source": [
        "!ngrok diagnose"
      ]
    },
    {
      "cell_type": "markdown",
      "metadata": {
        "id": "z92uiXHUNR57"
      },
      "source": [
        "# Flask"
      ]
    },
    {
      "cell_type": "code",
      "execution_count": 18,
      "metadata": {
        "id": "L6vXv6FlH48c"
      },
      "outputs": [],
      "source": [
        "# os.environ['FLASK_DEBUG'] = '0'\n",
        "# os.environ['FLASK_APP'] = 'main.py'\n",
        "# os.environ[\"FLASK_ENV\"] = 'development'"
      ]
    },
    {
      "cell_type": "markdown",
      "metadata": {
        "id": "KFFqus2COlUu"
      },
      "source": [
        "# Run"
      ]
    },
    {
      "cell_type": "code",
      "execution_count": null,
      "metadata": {
        "colab": {
          "base_uri": "https://localhost:8080/"
        },
        "id": "PVhR8apRtGa5",
        "outputId": "382bd177-58f0-4932-93ee-9c0fb76e33c2"
      },
      "outputs": [
        {
          "output_type": "stream",
          "name": "stdout",
          "text": [
            " * Serving Flask app 'main' (lazy loading)\n",
            " * Environment: production\n",
            "\u001b[31m   WARNING: This is a development server. Do not use it in a production deployment.\u001b[0m\n",
            "\u001b[2m   Use a production WSGI server instead.\u001b[0m\n",
            " * Debug mode: off\n",
            "\u001b[31m\u001b[1mWARNING: This is a development server. Do not use it in a production deployment. Use a production WSGI server instead.\u001b[0m\n",
            " * Running on http://127.0.0.1:5000\n",
            "\u001b[33mPress CTRL+C to quit\u001b[0m\n",
            "127.0.0.1 - - [28/Jul/2023 20:52:57] \"GET /?snake_name=alphabeta_brain_1 HTTP/1.1\" 200 -\n",
            "127.0.0.1 - - [28/Jul/2023 20:53:11] \"GET /?snake_name=alphabeta_brain_2 HTTP/1.1\" 200 -\n",
            "127.0.0.1 - - [28/Jul/2023 20:53:21] \"GET /?snake_name=alphabeta_brain_3 HTTP/1.1\" 200 -\n",
            "127.0.0.1 - - [28/Jul/2023 20:53:30] \"GET /?snake_name=minimax_brain_1 HTTP/1.1\" 200 -\n",
            "127.0.0.1 - - [28/Jul/2023 20:53:38] \"GET /?snake_name=minimax_brain_2 HTTP/1.1\" 200 -\n",
            "127.0.0.1 - - [28/Jul/2023 20:53:48] \"GET /?snake_name=minimax_brain_3 HTTP/1.1\" 200 -\n",
            "127.0.0.1 - - [28/Jul/2023 20:53:55] \"GET /?snake_name=random_brain HTTP/1.1\" 200 -\n",
            "127.0.0.1 - - [28/Jul/2023 20:54:10] \"POST /start?snake_name=alphabeta_brain_3 HTTP/1.1\" 200 -\n",
            "127.0.0.1 - - [28/Jul/2023 20:54:10] \"POST /start?snake_name=alphabeta_brain_2 HTTP/1.1\" 200 -\n",
            "127.0.0.1 - - [28/Jul/2023 20:54:10] \"POST /move?snake_name=alphabeta_brain_2 HTTP/1.1\" 200 -\n",
            "127.0.0.1 - - [28/Jul/2023 20:54:10] \"POST /move?snake_name=alphabeta_brain_3 HTTP/1.1\" 200 -\n",
            "127.0.0.1 - - [28/Jul/2023 20:54:10] \"POST /move?snake_name=alphabeta_brain_2 HTTP/1.1\" 200 -\n",
            "127.0.0.1 - - [28/Jul/2023 20:54:10] \"POST /move?snake_name=alphabeta_brain_3 HTTP/1.1\" 200 -\n",
            "127.0.0.1 - - [28/Jul/2023 20:54:10] \"POST /move?snake_name=alphabeta_brain_2 HTTP/1.1\" 200 -\n",
            "127.0.0.1 - - [28/Jul/2023 20:54:10] \"POST /move?snake_name=alphabeta_brain_3 HTTP/1.1\" 200 -\n",
            "127.0.0.1 - - [28/Jul/2023 20:54:11] \"POST /move?snake_name=alphabeta_brain_2 HTTP/1.1\" 200 -\n",
            "127.0.0.1 - - [28/Jul/2023 20:54:11] \"POST /move?snake_name=alphabeta_brain_3 HTTP/1.1\" 200 -\n",
            "127.0.0.1 - - [28/Jul/2023 20:54:11] \"POST /move?snake_name=alphabeta_brain_2 HTTP/1.1\" 200 -\n",
            "127.0.0.1 - - [28/Jul/2023 20:54:11] \"POST /move?snake_name=alphabeta_brain_3 HTTP/1.1\" 200 -\n",
            "127.0.0.1 - - [28/Jul/2023 20:54:11] \"POST /move?snake_name=alphabeta_brain_2 HTTP/1.1\" 200 -\n",
            "127.0.0.1 - - [28/Jul/2023 20:54:11] \"POST /move?snake_name=alphabeta_brain_3 HTTP/1.1\" 200 -\n",
            "127.0.0.1 - - [28/Jul/2023 20:54:11] \"POST /move?snake_name=alphabeta_brain_3 HTTP/1.1\" 200 -\n",
            "127.0.0.1 - - [28/Jul/2023 20:54:11] \"POST /move?snake_name=alphabeta_brain_2 HTTP/1.1\" 200 -\n",
            "127.0.0.1 - - [28/Jul/2023 20:54:11] \"POST /move?snake_name=alphabeta_brain_2 HTTP/1.1\" 200 -\n",
            "127.0.0.1 - - [28/Jul/2023 20:54:11] \"POST /move?snake_name=alphabeta_brain_3 HTTP/1.1\" 200 -\n",
            "127.0.0.1 - - [28/Jul/2023 20:54:12] \"POST /move?snake_name=alphabeta_brain_2 HTTP/1.1\" 200 -\n",
            "127.0.0.1 - - [28/Jul/2023 20:54:12] \"POST /move?snake_name=alphabeta_brain_3 HTTP/1.1\" 200 -\n",
            "127.0.0.1 - - [28/Jul/2023 20:54:12] \"POST /move?snake_name=alphabeta_brain_2 HTTP/1.1\" 200 -\n",
            "127.0.0.1 - - [28/Jul/2023 20:54:12] \"POST /move?snake_name=alphabeta_brain_3 HTTP/1.1\" 200 -\n",
            "127.0.0.1 - - [28/Jul/2023 20:54:12] \"POST /move?snake_name=alphabeta_brain_2 HTTP/1.1\" 200 -\n",
            "127.0.0.1 - - [28/Jul/2023 20:54:12] \"POST /move?snake_name=alphabeta_brain_3 HTTP/1.1\" 200 -\n",
            "127.0.0.1 - - [28/Jul/2023 20:54:12] \"POST /move?snake_name=alphabeta_brain_2 HTTP/1.1\" 200 -\n",
            "GAME OVER\n",
            "\n",
            "127.0.0.1 - - [28/Jul/2023 20:54:12] \"POST /end?snake_name=alphabeta_brain_2 HTTP/1.1\" 200 -\n",
            "GAME OVER\n",
            "\n",
            "127.0.0.1 - - [28/Jul/2023 20:54:12] \"POST /end?snake_name=alphabeta_brain_3 HTTP/1.1\" 200 -\n",
            "127.0.0.1 - - [28/Jul/2023 20:54:37] \"POST /start?snake_name=alphabeta_brain_3 HTTP/1.1\" 200 -\n",
            "127.0.0.1 - - [28/Jul/2023 20:54:37] \"POST /start?snake_name=alphabeta_brain_2 HTTP/1.1\" 200 -\n",
            "127.0.0.1 - - [28/Jul/2023 20:54:37] \"POST /move?snake_name=alphabeta_brain_2 HTTP/1.1\" 200 -\n",
            "127.0.0.1 - - [28/Jul/2023 20:54:37] \"POST /move?snake_name=alphabeta_brain_3 HTTP/1.1\" 200 -\n",
            "127.0.0.1 - - [28/Jul/2023 20:54:37] \"POST /move?snake_name=alphabeta_brain_2 HTTP/1.1\" 200 -\n",
            "127.0.0.1 - - [28/Jul/2023 20:54:37] \"POST /move?snake_name=alphabeta_brain_3 HTTP/1.1\" 200 -\n",
            "127.0.0.1 - - [28/Jul/2023 20:54:37] \"POST /move?snake_name=alphabeta_brain_3 HTTP/1.1\" 200 -\n",
            "127.0.0.1 - - [28/Jul/2023 20:54:37] \"POST /move?snake_name=alphabeta_brain_2 HTTP/1.1\" 200 -\n",
            "127.0.0.1 - - [28/Jul/2023 20:54:38] \"POST /move?snake_name=alphabeta_brain_2 HTTP/1.1\" 200 -\n",
            "127.0.0.1 - - [28/Jul/2023 20:54:38] \"POST /move?snake_name=alphabeta_brain_3 HTTP/1.1\" 200 -\n",
            "127.0.0.1 - - [28/Jul/2023 20:54:38] \"POST /move?snake_name=alphabeta_brain_2 HTTP/1.1\" 200 -\n",
            "127.0.0.1 - - [28/Jul/2023 20:54:38] \"POST /move?snake_name=alphabeta_brain_3 HTTP/1.1\" 200 -\n",
            "127.0.0.1 - - [28/Jul/2023 20:54:38] \"POST /move?snake_name=alphabeta_brain_2 HTTP/1.1\" 200 -\n",
            "127.0.0.1 - - [28/Jul/2023 20:54:38] \"POST /move?snake_name=alphabeta_brain_3 HTTP/1.1\" 200 -\n",
            "127.0.0.1 - - [28/Jul/2023 20:54:38] \"POST /move?snake_name=alphabeta_brain_2 HTTP/1.1\" 200 -\n",
            "127.0.0.1 - - [28/Jul/2023 20:54:38] \"POST /move?snake_name=alphabeta_brain_3 HTTP/1.1\" 200 -\n",
            "127.0.0.1 - - [28/Jul/2023 20:54:38] \"POST /move?snake_name=alphabeta_brain_2 HTTP/1.1\" 200 -\n",
            "127.0.0.1 - - [28/Jul/2023 20:54:39] \"POST /move?snake_name=alphabeta_brain_3 HTTP/1.1\" 200 -\n",
            "127.0.0.1 - - [28/Jul/2023 20:54:39] \"POST /move?snake_name=alphabeta_brain_2 HTTP/1.1\" 200 -\n",
            "127.0.0.1 - - [28/Jul/2023 20:54:39] \"POST /move?snake_name=alphabeta_brain_3 HTTP/1.1\" 200 -\n",
            "127.0.0.1 - - [28/Jul/2023 20:54:39] \"POST /move?snake_name=alphabeta_brain_2 HTTP/1.1\" 200 -\n",
            "127.0.0.1 - - [28/Jul/2023 20:54:39] \"POST /move?snake_name=alphabeta_brain_3 HTTP/1.1\" 200 -\n",
            "127.0.0.1 - - [28/Jul/2023 20:54:39] \"POST /move?snake_name=alphabeta_brain_2 HTTP/1.1\" 200 -\n",
            "127.0.0.1 - - [28/Jul/2023 20:54:39] \"POST /move?snake_name=alphabeta_brain_3 HTTP/1.1\" 200 -\n",
            "127.0.0.1 - - [28/Jul/2023 20:54:40] \"POST /move?snake_name=alphabeta_brain_2 HTTP/1.1\" 200 -\n",
            "127.0.0.1 - - [28/Jul/2023 20:54:40] \"POST /move?snake_name=alphabeta_brain_3 HTTP/1.1\" 200 -\n",
            "127.0.0.1 - - [28/Jul/2023 20:54:40] \"POST /move?snake_name=alphabeta_brain_2 HTTP/1.1\" 200 -\n",
            "127.0.0.1 - - [28/Jul/2023 20:54:40] \"POST /move?snake_name=alphabeta_brain_3 HTTP/1.1\" 200 -\n",
            "127.0.0.1 - - [28/Jul/2023 20:54:40] \"POST /move?snake_name=alphabeta_brain_2 HTTP/1.1\" 200 -\n",
            "127.0.0.1 - - [28/Jul/2023 20:54:40] \"POST /move?snake_name=alphabeta_brain_3 HTTP/1.1\" 200 -\n",
            "127.0.0.1 - - [28/Jul/2023 20:54:40] \"POST /move?snake_name=alphabeta_brain_2 HTTP/1.1\" 200 -\n",
            "127.0.0.1 - - [28/Jul/2023 20:54:40] \"POST /move?snake_name=alphabeta_brain_3 HTTP/1.1\" 200 -\n",
            "127.0.0.1 - - [28/Jul/2023 20:54:40] \"POST /move?snake_name=alphabeta_brain_2 HTTP/1.1\" 200 -\n",
            "127.0.0.1 - - [28/Jul/2023 20:54:41] \"POST /move?snake_name=alphabeta_brain_3 HTTP/1.1\" 200 -\n",
            "127.0.0.1 - - [28/Jul/2023 20:54:41] \"POST /move?snake_name=alphabeta_brain_2 HTTP/1.1\" 200 -\n",
            "127.0.0.1 - - [28/Jul/2023 20:54:41] \"POST /move?snake_name=alphabeta_brain_3 HTTP/1.1\" 200 -\n",
            "127.0.0.1 - - [28/Jul/2023 20:54:41] \"POST /move?snake_name=alphabeta_brain_3 HTTP/1.1\" 200 -\n",
            "127.0.0.1 - - [28/Jul/2023 20:54:41] \"POST /move?snake_name=alphabeta_brain_2 HTTP/1.1\" 200 -\n",
            "127.0.0.1 - - [28/Jul/2023 20:54:41] \"POST /move?snake_name=alphabeta_brain_3 HTTP/1.1\" 200 -\n",
            "127.0.0.1 - - [28/Jul/2023 20:54:41] \"POST /move?snake_name=alphabeta_brain_2 HTTP/1.1\" 200 -\n",
            "127.0.0.1 - - [28/Jul/2023 20:54:41] \"POST /move?snake_name=alphabeta_brain_2 HTTP/1.1\" 200 -\n",
            "127.0.0.1 - - [28/Jul/2023 20:54:41] \"POST /move?snake_name=alphabeta_brain_3 HTTP/1.1\" 200 -\n",
            "127.0.0.1 - - [28/Jul/2023 20:54:41] \"POST /move?snake_name=alphabeta_brain_2 HTTP/1.1\" 200 -\n",
            "127.0.0.1 - - [28/Jul/2023 20:54:41] \"POST /move?snake_name=alphabeta_brain_3 HTTP/1.1\" 200 -\n",
            "127.0.0.1 - - [28/Jul/2023 20:54:42] \"POST /move?snake_name=alphabeta_brain_3 HTTP/1.1\" 200 -\n",
            "127.0.0.1 - - [28/Jul/2023 20:54:42] \"POST /move?snake_name=alphabeta_brain_2 HTTP/1.1\" 200 -\n",
            "127.0.0.1 - - [28/Jul/2023 20:54:42] \"POST /move?snake_name=alphabeta_brain_2 HTTP/1.1\" 200 -\n",
            "127.0.0.1 - - [28/Jul/2023 20:54:42] \"POST /move?snake_name=alphabeta_brain_3 HTTP/1.1\" 200 -\n",
            "127.0.0.1 - - [28/Jul/2023 20:54:42] \"POST /move?snake_name=alphabeta_brain_2 HTTP/1.1\" 200 -\n",
            "127.0.0.1 - - [28/Jul/2023 20:54:42] \"POST /move?snake_name=alphabeta_brain_3 HTTP/1.1\" 200 -\n",
            "127.0.0.1 - - [28/Jul/2023 20:54:42] \"POST /move?snake_name=alphabeta_brain_2 HTTP/1.1\" 200 -\n",
            "127.0.0.1 - - [28/Jul/2023 20:54:43] \"POST /move?snake_name=alphabeta_brain_2 HTTP/1.1\" 200 -\n",
            "127.0.0.1 - - [28/Jul/2023 20:54:43] \"POST /move?snake_name=alphabeta_brain_3 HTTP/1.1\" 200 -\n",
            "127.0.0.1 - - [28/Jul/2023 20:54:43] \"POST /move?snake_name=alphabeta_brain_2 HTTP/1.1\" 200 -\n",
            "127.0.0.1 - - [28/Jul/2023 20:54:44] \"POST /move?snake_name=alphabeta_brain_3 HTTP/1.1\" 200 -\n",
            "127.0.0.1 - - [28/Jul/2023 20:54:44] \"POST /move?snake_name=alphabeta_brain_2 HTTP/1.1\" 200 -\n",
            "127.0.0.1 - - [28/Jul/2023 20:54:44] \"POST /move?snake_name=alphabeta_brain_2 HTTP/1.1\" 200 -\n",
            "GAME OVER\n",
            "\n",
            "127.0.0.1 - - [28/Jul/2023 20:54:44] \"POST /end?snake_name=alphabeta_brain_2 HTTP/1.1\" 200 -\n",
            "GAME OVER\n",
            "\n",
            "127.0.0.1 - - [28/Jul/2023 20:54:44] \"POST /end?snake_name=alphabeta_brain_3 HTTP/1.1\" 200 -\n",
            "127.0.0.1 - - [28/Jul/2023 20:54:45] \"POST /move?snake_name=alphabeta_brain_3 HTTP/1.1\" 200 -\n",
            "127.0.0.1 - - [28/Jul/2023 20:54:45] \"POST /move?snake_name=alphabeta_brain_3 HTTP/1.1\" 200 -\n"
          ]
        }
      ],
      "source": [
        "!python main.py"
      ]
    },
    {
      "cell_type": "code",
      "execution_count": null,
      "metadata": {
        "id": "boYcUChHSM2p"
      },
      "outputs": [],
      "source": [
        "# !python main.py --api --share &"
      ]
    }
  ],
  "metadata": {
    "accelerator": "GPU",
    "colab": {
      "provenance": []
    },
    "kernelspec": {
      "display_name": "Python 3",
      "name": "python3"
    },
    "language_info": {
      "name": "python"
    }
  },
  "nbformat": 4,
  "nbformat_minor": 0
}